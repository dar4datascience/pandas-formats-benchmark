{
 "cells": [
  {
   "cell_type": "markdown",
   "metadata": {},
   "source": [
    "# The Best Format to Save Pandas Data"
   ]
  },
  {
   "cell_type": "code",
   "execution_count": 3,
   "metadata": {},
   "outputs": [],
   "source": [
    "%matplotlib inline\n",
    "%reload_ext autoreload\n",
    "%autoreload 2"
   ]
  },
  {
   "cell_type": "code",
   "execution_count": 4,
   "metadata": {},
   "outputs": [],
   "source": [
    "from collections import defaultdict\n",
    "import os"
   ]
  },
  {
   "cell_type": "code",
   "execution_count": 5,
   "metadata": {},
   "outputs": [],
   "source": [
    "import feather\n",
    "import numpy as np\n",
    "import pandas as pd\n",
    "import seaborn as sns"
   ]
  },
  {
   "cell_type": "code",
   "execution_count": 6,
   "metadata": {},
   "outputs": [],
   "source": [
    "from utils import Timer, MemoryTracker, GC, NotebookStyle"
   ]
  },
  {
   "cell_type": "code",
   "execution_count": 7,
   "metadata": {},
   "outputs": [],
   "source": [
    "style = NotebookStyle()\n",
    "style.override({'grid.color': 'lightgray'})"
   ]
  },
  {
   "cell_type": "markdown",
   "metadata": {},
   "source": [
    "## Random Dataset"
   ]
  },
  {
   "cell_type": "code",
   "execution_count": 6,
   "metadata": {},
   "outputs": [],
   "source": [
    "def generate_dataset(n_rows, num_count, cat_count, max_nan=0.1, max_cat_size=100):\n",
    "    \"\"\"Randomly generate datasets with numerical and categorical features.\n",
    "    \n",
    "    The numerical features are taken from the normal distribution X ~ N(0, 1).\n",
    "    The categorical features are generated as random uuid4 strings with \n",
    "    cardinality C where 2 <= C <= max_cat_size.\n",
    "    \n",
    "    Also, a max_nan proportion of both numerical and categorical features is replaces\n",
    "    with NaN values.\n",
    "    \"\"\"\n",
    "    dataset, types = {}, {}\n",
    "    \n",
    "    def generate_categories():\n",
    "        from uuid import uuid4\n",
    "        category_size = np.random.randint(2, max_cat_size)\n",
    "        return [str(uuid4()) for _ in range(category_size)]\n",
    "    \n",
    "    for col in range(num_count):\n",
    "        name = f'n{col}'\n",
    "        values = np.random.normal(0, 1, n_rows)\n",
    "        nan_cnt = np.random.randint(1, int(max_nan*n_rows))\n",
    "        index = np.random.choice(n_rows, nan_cnt, replace=False)\n",
    "        values[index] = np.nan\n",
    "        dataset[name] = values\n",
    "        types[name] = 'float32'\n",
    "        \n",
    "    for col in range(cat_count):\n",
    "        name = f'c{col}'\n",
    "        cats = generate_categories()\n",
    "        values = np.array(np.random.choice(cats, n_rows, replace=True), dtype=object)\n",
    "        nan_cnt = np.random.randint(1, int(max_nan*n_rows))\n",
    "        index = np.random.choice(n_rows, nan_cnt, replace=False)\n",
    "        values[index] = np.nan\n",
    "        dataset[name] = values\n",
    "        types[name] = 'object'\n",
    "    \n",
    "    return pd.DataFrame(dataset), types"
   ]
  },
  {
   "cell_type": "markdown",
   "metadata": {},
   "source": [
    "## Benchmarking"
   ]
  },
  {
   "cell_type": "code",
   "execution_count": 7,
   "metadata": {},
   "outputs": [],
   "source": [
    "def size_of(filename, unit=1024**2):\n",
    "    return round(os.stat(filename).st_size / unit, 2)"
   ]
  },
  {
   "cell_type": "code",
   "execution_count": 8,
   "metadata": {},
   "outputs": [],
   "source": [
    "def get_save_load(df, fmt):\n",
    "    save = getattr(df, f'to_{fmt}')\n",
    "    load = feather.read_dataframe if fmt == 'feather' else getattr(pd, f'read_{fmt}')\n",
    "    return save, load"
   ]
  },
  {
   "cell_type": "code",
   "execution_count": 9,
   "metadata": {},
   "outputs": [],
   "source": [
    "def benchmark(list_of_formats, data_size=1_000_000, n_num=15, n_cat=15, n_rounds=20,\n",
    "              as_category=False):\n",
    "    \"\"\"Runs dataset saving/loading benchamrk using formts from the list_of_formats.\n",
    "    \n",
    "    Each round a new random dataset is generated with data_size observations. \n",
    "    The measurements for each of the rounds are concatenated together and returned\n",
    "    as a single data frame.\n",
    "    \n",
    "    Parameters:\n",
    "        list_of_formats: A list of tuples in the format (<format_name>, [<params_dict>]). \n",
    "            The <format_name> should be one of the pandas supported formats.\n",
    "        data_size: A number of samples in the generated dataset.\n",
    "        n_num: A number of numerical columns in the generated dataset.\n",
    "        n_cat: A number of categorical columns in the generated dataset.\n",
    "        n_rounds: A number of randomly generated datasets to test the formats.\n",
    "        as_category: If True, then categorical columns will be converted into \n",
    "            pandas.Category type before saving.\n",
    "            \n",
    "    \"\"\"\n",
    "    runs = []\n",
    "    \n",
    "    for i in range(n_rounds):\n",
    "        print(f'Benchmarking round #{i + 1:d}')\n",
    "        print('\\tgenerating dataset...')\n",
    "        dataset, _ = generate_dataset(data_size, n_num, n_cat)\n",
    "        \n",
    "        if as_category:\n",
    "            print('\\tconverting categorical columns into pandas.Category')\n",
    "            cat_cols = dataset.select_dtypes(include=object).columns\n",
    "            dataset[cat_cols] = dataset[cat_cols].fillna('none').astype('category')\n",
    "        \n",
    "        benchmark = []\n",
    "        \n",
    "        for case in list_of_formats:\n",
    "            fmt, params = case if len(case) == 2 else (case[0], {})\n",
    "            \n",
    "            with GC():\n",
    "                print('\\ttesting format:', fmt)\n",
    "                filename = f'random.{fmt}'\n",
    "                save, load = get_save_load(dataset, fmt)\n",
    "                results = defaultdict(int)\n",
    "                results['format'] = fmt\n",
    "                results['filename'] = filename\n",
    "                \n",
    "                with MemoryTracker() as tracker:\n",
    "                    with Timer() as timer:\n",
    "                        save(filename, **params)\n",
    "                results['size_mb'] = size_of(filename)\n",
    "                results['save_ram_delta_mb'] = tracker.memory / (1024 ** 2)\n",
    "                results['save_time'] = float(timer)\n",
    "                \n",
    "                with MemoryTracker() as tracker:\n",
    "                    with Timer() as timer:\n",
    "                        _ = load(filename)\n",
    "                results['load_ram_delta_mb'] = tracker.memory / (1024 ** 2)\n",
    "                results['load_time'] = float(timer)\n",
    "                \n",
    "                benchmark.append(results)\n",
    "                \n",
    "            run = pd.DataFrame(benchmark)\n",
    "            run['run_no'] = i\n",
    "            runs.append(run)\n",
    "            \n",
    "    benchmark = pd.concat(runs, axis=0)\n",
    "    benchmark.reset_index(inplace=True, drop=True)\n",
    "    return benchmark"
   ]
  },
  {
   "cell_type": "markdown",
   "metadata": {},
   "source": [
    "### CSV Baseline"
   ]
  },
  {
   "cell_type": "code",
   "execution_count": 10,
   "metadata": {},
   "outputs": [],
   "source": [
    "formats = [('csv', {'index': None})]"
   ]
  },
  {
   "cell_type": "code",
   "execution_count": 11,
   "metadata": {},
   "outputs": [
    {
     "name": "stdout",
     "output_type": "stream",
     "text": [
      "Benchmarking round #1\n",
      "\tgenerating dataset...\n",
      "\ttesting format: csv\n"
     ]
    },
    {
     "ename": "KeyboardInterrupt",
     "evalue": "",
     "output_type": "error",
     "traceback": [
      "\u001b[0;31m---------------------------------------------------------------------------\u001b[0m",
      "\u001b[0;31mKeyboardInterrupt\u001b[0m                         Traceback (most recent call last)",
      "Cell \u001b[0;32mIn[11], line 1\u001b[0m\n\u001b[0;32m----> 1\u001b[0m csv_results \u001b[39m=\u001b[39m benchmark(formats, n_rounds\u001b[39m=\u001b[39;49m\u001b[39m5\u001b[39;49m)\n",
      "Cell \u001b[0;32mIn[9], line 47\u001b[0m, in \u001b[0;36mbenchmark\u001b[0;34m(list_of_formats, data_size, n_num, n_cat, n_rounds, as_category)\u001b[0m\n\u001b[1;32m     45\u001b[0m \u001b[39mwith\u001b[39;00m MemoryTracker() \u001b[39mas\u001b[39;00m tracker:\n\u001b[1;32m     46\u001b[0m     \u001b[39mwith\u001b[39;00m Timer() \u001b[39mas\u001b[39;00m timer:\n\u001b[0;32m---> 47\u001b[0m         save(filename, \u001b[39m*\u001b[39;49m\u001b[39m*\u001b[39;49mparams)\n\u001b[1;32m     48\u001b[0m results[\u001b[39m'\u001b[39m\u001b[39msize_mb\u001b[39m\u001b[39m'\u001b[39m] \u001b[39m=\u001b[39m size_of(filename)\n\u001b[1;32m     49\u001b[0m results[\u001b[39m'\u001b[39m\u001b[39msave_ram_delta_mb\u001b[39m\u001b[39m'\u001b[39m] \u001b[39m=\u001b[39m tracker\u001b[39m.\u001b[39mmemory \u001b[39m/\u001b[39m (\u001b[39m1024\u001b[39m \u001b[39m*\u001b[39m\u001b[39m*\u001b[39m \u001b[39m2\u001b[39m)\n",
      "File \u001b[0;32m~/.local/lib/python3.10/site-packages/pandas/core/generic.py:3772\u001b[0m, in \u001b[0;36mNDFrame.to_csv\u001b[0;34m(self, path_or_buf, sep, na_rep, float_format, columns, header, index, index_label, mode, encoding, compression, quoting, quotechar, lineterminator, chunksize, date_format, doublequote, escapechar, decimal, errors, storage_options)\u001b[0m\n\u001b[1;32m   3761\u001b[0m df \u001b[39m=\u001b[39m \u001b[39mself\u001b[39m \u001b[39mif\u001b[39;00m \u001b[39misinstance\u001b[39m(\u001b[39mself\u001b[39m, ABCDataFrame) \u001b[39melse\u001b[39;00m \u001b[39mself\u001b[39m\u001b[39m.\u001b[39mto_frame()\n\u001b[1;32m   3763\u001b[0m formatter \u001b[39m=\u001b[39m DataFrameFormatter(\n\u001b[1;32m   3764\u001b[0m     frame\u001b[39m=\u001b[39mdf,\n\u001b[1;32m   3765\u001b[0m     header\u001b[39m=\u001b[39mheader,\n\u001b[0;32m   (...)\u001b[0m\n\u001b[1;32m   3769\u001b[0m     decimal\u001b[39m=\u001b[39mdecimal,\n\u001b[1;32m   3770\u001b[0m )\n\u001b[0;32m-> 3772\u001b[0m \u001b[39mreturn\u001b[39;00m DataFrameRenderer(formatter)\u001b[39m.\u001b[39;49mto_csv(\n\u001b[1;32m   3773\u001b[0m     path_or_buf,\n\u001b[1;32m   3774\u001b[0m     lineterminator\u001b[39m=\u001b[39;49mlineterminator,\n\u001b[1;32m   3775\u001b[0m     sep\u001b[39m=\u001b[39;49msep,\n\u001b[1;32m   3776\u001b[0m     encoding\u001b[39m=\u001b[39;49mencoding,\n\u001b[1;32m   3777\u001b[0m     errors\u001b[39m=\u001b[39;49merrors,\n\u001b[1;32m   3778\u001b[0m     compression\u001b[39m=\u001b[39;49mcompression,\n\u001b[1;32m   3779\u001b[0m     quoting\u001b[39m=\u001b[39;49mquoting,\n\u001b[1;32m   3780\u001b[0m     columns\u001b[39m=\u001b[39;49mcolumns,\n\u001b[1;32m   3781\u001b[0m     index_label\u001b[39m=\u001b[39;49mindex_label,\n\u001b[1;32m   3782\u001b[0m     mode\u001b[39m=\u001b[39;49mmode,\n\u001b[1;32m   3783\u001b[0m     chunksize\u001b[39m=\u001b[39;49mchunksize,\n\u001b[1;32m   3784\u001b[0m     quotechar\u001b[39m=\u001b[39;49mquotechar,\n\u001b[1;32m   3785\u001b[0m     date_format\u001b[39m=\u001b[39;49mdate_format,\n\u001b[1;32m   3786\u001b[0m     doublequote\u001b[39m=\u001b[39;49mdoublequote,\n\u001b[1;32m   3787\u001b[0m     escapechar\u001b[39m=\u001b[39;49mescapechar,\n\u001b[1;32m   3788\u001b[0m     storage_options\u001b[39m=\u001b[39;49mstorage_options,\n\u001b[1;32m   3789\u001b[0m )\n",
      "File \u001b[0;32m~/.local/lib/python3.10/site-packages/pandas/io/formats/format.py:1186\u001b[0m, in \u001b[0;36mDataFrameRenderer.to_csv\u001b[0;34m(self, path_or_buf, encoding, sep, columns, index_label, mode, compression, quoting, quotechar, lineterminator, chunksize, date_format, doublequote, escapechar, errors, storage_options)\u001b[0m\n\u001b[1;32m   1165\u001b[0m     created_buffer \u001b[39m=\u001b[39m \u001b[39mFalse\u001b[39;00m\n\u001b[1;32m   1167\u001b[0m csv_formatter \u001b[39m=\u001b[39m CSVFormatter(\n\u001b[1;32m   1168\u001b[0m     path_or_buf\u001b[39m=\u001b[39mpath_or_buf,\n\u001b[1;32m   1169\u001b[0m     lineterminator\u001b[39m=\u001b[39mlineterminator,\n\u001b[0;32m   (...)\u001b[0m\n\u001b[1;32m   1184\u001b[0m     formatter\u001b[39m=\u001b[39m\u001b[39mself\u001b[39m\u001b[39m.\u001b[39mfmt,\n\u001b[1;32m   1185\u001b[0m )\n\u001b[0;32m-> 1186\u001b[0m csv_formatter\u001b[39m.\u001b[39;49msave()\n\u001b[1;32m   1188\u001b[0m \u001b[39mif\u001b[39;00m created_buffer:\n\u001b[1;32m   1189\u001b[0m     \u001b[39massert\u001b[39;00m \u001b[39misinstance\u001b[39m(path_or_buf, StringIO)\n",
      "File \u001b[0;32m~/.local/lib/python3.10/site-packages/pandas/io/formats/csvs.py:259\u001b[0m, in \u001b[0;36mCSVFormatter.save\u001b[0;34m(self)\u001b[0m\n\u001b[1;32m    240\u001b[0m \u001b[39mwith\u001b[39;00m get_handle(\n\u001b[1;32m    241\u001b[0m     \u001b[39mself\u001b[39m\u001b[39m.\u001b[39mfilepath_or_buffer,\n\u001b[1;32m    242\u001b[0m     \u001b[39mself\u001b[39m\u001b[39m.\u001b[39mmode,\n\u001b[0;32m   (...)\u001b[0m\n\u001b[1;32m    247\u001b[0m ) \u001b[39mas\u001b[39;00m handles:\n\u001b[1;32m    248\u001b[0m     \u001b[39m# Note: self.encoding is irrelevant here\u001b[39;00m\n\u001b[1;32m    249\u001b[0m     \u001b[39mself\u001b[39m\u001b[39m.\u001b[39mwriter \u001b[39m=\u001b[39m csvlib\u001b[39m.\u001b[39mwriter(\n\u001b[1;32m    250\u001b[0m         handles\u001b[39m.\u001b[39mhandle,\n\u001b[1;32m    251\u001b[0m         lineterminator\u001b[39m=\u001b[39m\u001b[39mself\u001b[39m\u001b[39m.\u001b[39mlineterminator,\n\u001b[0;32m   (...)\u001b[0m\n\u001b[1;32m    256\u001b[0m         quotechar\u001b[39m=\u001b[39m\u001b[39mself\u001b[39m\u001b[39m.\u001b[39mquotechar,\n\u001b[1;32m    257\u001b[0m     )\n\u001b[0;32m--> 259\u001b[0m     \u001b[39mself\u001b[39;49m\u001b[39m.\u001b[39;49m_save()\n",
      "File \u001b[0;32m~/.local/lib/python3.10/site-packages/pandas/io/formats/csvs.py:264\u001b[0m, in \u001b[0;36mCSVFormatter._save\u001b[0;34m(self)\u001b[0m\n\u001b[1;32m    262\u001b[0m \u001b[39mif\u001b[39;00m \u001b[39mself\u001b[39m\u001b[39m.\u001b[39m_need_to_save_header:\n\u001b[1;32m    263\u001b[0m     \u001b[39mself\u001b[39m\u001b[39m.\u001b[39m_save_header()\n\u001b[0;32m--> 264\u001b[0m \u001b[39mself\u001b[39;49m\u001b[39m.\u001b[39;49m_save_body()\n",
      "File \u001b[0;32m~/.local/lib/python3.10/site-packages/pandas/io/formats/csvs.py:302\u001b[0m, in \u001b[0;36mCSVFormatter._save_body\u001b[0;34m(self)\u001b[0m\n\u001b[1;32m    300\u001b[0m \u001b[39mif\u001b[39;00m start_i \u001b[39m>\u001b[39m\u001b[39m=\u001b[39m end_i:\n\u001b[1;32m    301\u001b[0m     \u001b[39mbreak\u001b[39;00m\n\u001b[0;32m--> 302\u001b[0m \u001b[39mself\u001b[39;49m\u001b[39m.\u001b[39;49m_save_chunk(start_i, end_i)\n",
      "File \u001b[0;32m~/.local/lib/python3.10/site-packages/pandas/io/formats/csvs.py:309\u001b[0m, in \u001b[0;36mCSVFormatter._save_chunk\u001b[0;34m(self, start_i, end_i)\u001b[0m\n\u001b[1;32m    306\u001b[0m slicer \u001b[39m=\u001b[39m \u001b[39mslice\u001b[39m(start_i, end_i)\n\u001b[1;32m    307\u001b[0m df \u001b[39m=\u001b[39m \u001b[39mself\u001b[39m\u001b[39m.\u001b[39mobj\u001b[39m.\u001b[39miloc[slicer]\n\u001b[0;32m--> 309\u001b[0m res \u001b[39m=\u001b[39m df\u001b[39m.\u001b[39;49m_mgr\u001b[39m.\u001b[39;49mto_native_types(\u001b[39m*\u001b[39;49m\u001b[39m*\u001b[39;49m\u001b[39mself\u001b[39;49m\u001b[39m.\u001b[39;49m_number_format)\n\u001b[1;32m    310\u001b[0m data \u001b[39m=\u001b[39m [res\u001b[39m.\u001b[39miget_values(i) \u001b[39mfor\u001b[39;00m i \u001b[39min\u001b[39;00m \u001b[39mrange\u001b[39m(\u001b[39mlen\u001b[39m(res\u001b[39m.\u001b[39mitems))]\n\u001b[1;32m    312\u001b[0m ix \u001b[39m=\u001b[39m \u001b[39mself\u001b[39m\u001b[39m.\u001b[39mdata_index[slicer]\u001b[39m.\u001b[39m_format_native_types(\u001b[39m*\u001b[39m\u001b[39m*\u001b[39m\u001b[39mself\u001b[39m\u001b[39m.\u001b[39m_number_format)\n",
      "File \u001b[0;32m~/.local/lib/python3.10/site-packages/pandas/core/internals/managers.py:512\u001b[0m, in \u001b[0;36mBaseBlockManager.to_native_types\u001b[0;34m(self, **kwargs)\u001b[0m\n\u001b[1;32m    507\u001b[0m \u001b[39mdef\u001b[39;00m \u001b[39mto_native_types\u001b[39m(\u001b[39mself\u001b[39m: T, \u001b[39m*\u001b[39m\u001b[39m*\u001b[39mkwargs) \u001b[39m-\u001b[39m\u001b[39m>\u001b[39m T:\n\u001b[1;32m    508\u001b[0m \u001b[39m    \u001b[39m\u001b[39m\"\"\"\u001b[39;00m\n\u001b[1;32m    509\u001b[0m \u001b[39m    Convert values to native types (strings / python objects) that are used\u001b[39;00m\n\u001b[1;32m    510\u001b[0m \u001b[39m    in formatting (repr / csv).\u001b[39;00m\n\u001b[1;32m    511\u001b[0m \u001b[39m    \"\"\"\u001b[39;00m\n\u001b[0;32m--> 512\u001b[0m     \u001b[39mreturn\u001b[39;00m \u001b[39mself\u001b[39;49m\u001b[39m.\u001b[39;49mapply(\u001b[39m\"\u001b[39;49m\u001b[39mto_native_types\u001b[39;49m\u001b[39m\"\u001b[39;49m, \u001b[39m*\u001b[39;49m\u001b[39m*\u001b[39;49mkwargs)\n",
      "File \u001b[0;32m~/.local/lib/python3.10/site-packages/pandas/core/internals/managers.py:352\u001b[0m, in \u001b[0;36mBaseBlockManager.apply\u001b[0;34m(self, f, align_keys, **kwargs)\u001b[0m\n\u001b[1;32m    350\u001b[0m         applied \u001b[39m=\u001b[39m b\u001b[39m.\u001b[39mapply(f, \u001b[39m*\u001b[39m\u001b[39m*\u001b[39mkwargs)\n\u001b[1;32m    351\u001b[0m     \u001b[39melse\u001b[39;00m:\n\u001b[0;32m--> 352\u001b[0m         applied \u001b[39m=\u001b[39m \u001b[39mgetattr\u001b[39;49m(b, f)(\u001b[39m*\u001b[39;49m\u001b[39m*\u001b[39;49mkwargs)\n\u001b[1;32m    353\u001b[0m     result_blocks \u001b[39m=\u001b[39m extend_blocks(applied, result_blocks)\n\u001b[1;32m    355\u001b[0m out \u001b[39m=\u001b[39m \u001b[39mtype\u001b[39m(\u001b[39mself\u001b[39m)\u001b[39m.\u001b[39mfrom_blocks(result_blocks, \u001b[39mself\u001b[39m\u001b[39m.\u001b[39maxes)\n",
      "File \u001b[0;32m~/.local/lib/python3.10/site-packages/pandas/core/internals/blocks.py:531\u001b[0m, in \u001b[0;36mBlock.to_native_types\u001b[0;34m(self, na_rep, quoting, **kwargs)\u001b[0m\n\u001b[1;32m    528\u001b[0m \u001b[39m@final\u001b[39m\n\u001b[1;32m    529\u001b[0m \u001b[39mdef\u001b[39;00m \u001b[39mto_native_types\u001b[39m(\u001b[39mself\u001b[39m, na_rep: \u001b[39mstr\u001b[39m \u001b[39m=\u001b[39m \u001b[39m\"\u001b[39m\u001b[39mnan\u001b[39m\u001b[39m\"\u001b[39m, quoting\u001b[39m=\u001b[39m\u001b[39mNone\u001b[39;00m, \u001b[39m*\u001b[39m\u001b[39m*\u001b[39mkwargs) \u001b[39m-\u001b[39m\u001b[39m>\u001b[39m Block:\n\u001b[1;32m    530\u001b[0m \u001b[39m    \u001b[39m\u001b[39m\"\"\"convert to our native types format\"\"\"\u001b[39;00m\n\u001b[0;32m--> 531\u001b[0m     result \u001b[39m=\u001b[39m to_native_types(\u001b[39mself\u001b[39;49m\u001b[39m.\u001b[39;49mvalues, na_rep\u001b[39m=\u001b[39;49mna_rep, quoting\u001b[39m=\u001b[39;49mquoting, \u001b[39m*\u001b[39;49m\u001b[39m*\u001b[39;49mkwargs)\n\u001b[1;32m    532\u001b[0m     \u001b[39mreturn\u001b[39;00m \u001b[39mself\u001b[39m\u001b[39m.\u001b[39mmake_block(result)\n",
      "File \u001b[0;32m~/.local/lib/python3.10/site-packages/pandas/core/internals/blocks.py:2566\u001b[0m, in \u001b[0;36mto_native_types\u001b[0;34m(values, na_rep, quoting, float_format, decimal, **kwargs)\u001b[0m\n\u001b[1;32m   2563\u001b[0m     \u001b[39mreturn\u001b[39;00m new_values\n\u001b[1;32m   2565\u001b[0m \u001b[39melse\u001b[39;00m:\n\u001b[0;32m-> 2566\u001b[0m     mask \u001b[39m=\u001b[39m isna(values)\n\u001b[1;32m   2567\u001b[0m     itemsize \u001b[39m=\u001b[39m writers\u001b[39m.\u001b[39mword_len(na_rep)\n\u001b[1;32m   2569\u001b[0m     \u001b[39mif\u001b[39;00m values\u001b[39m.\u001b[39mdtype \u001b[39m!=\u001b[39m _dtype_obj \u001b[39mand\u001b[39;00m \u001b[39mnot\u001b[39;00m quoting \u001b[39mand\u001b[39;00m itemsize:\n",
      "File \u001b[0;32m~/.local/lib/python3.10/site-packages/pandas/core/dtypes/missing.py:183\u001b[0m, in \u001b[0;36misna\u001b[0;34m(obj)\u001b[0m\n\u001b[1;32m    106\u001b[0m \u001b[39mdef\u001b[39;00m \u001b[39misna\u001b[39m(obj: \u001b[39mobject\u001b[39m) \u001b[39m-\u001b[39m\u001b[39m>\u001b[39m \u001b[39mbool\u001b[39m \u001b[39m|\u001b[39m npt\u001b[39m.\u001b[39mNDArray[np\u001b[39m.\u001b[39mbool_] \u001b[39m|\u001b[39m NDFrame:\n\u001b[1;32m    107\u001b[0m \u001b[39m    \u001b[39m\u001b[39m\"\"\"\u001b[39;00m\n\u001b[1;32m    108\u001b[0m \u001b[39m    Detect missing values for an array-like object.\u001b[39;00m\n\u001b[1;32m    109\u001b[0m \n\u001b[0;32m   (...)\u001b[0m\n\u001b[1;32m    181\u001b[0m \u001b[39m    Name: 1, dtype: bool\u001b[39;00m\n\u001b[1;32m    182\u001b[0m \u001b[39m    \"\"\"\u001b[39;00m\n\u001b[0;32m--> 183\u001b[0m     \u001b[39mreturn\u001b[39;00m _isna(obj)\n",
      "File \u001b[0;32m~/.local/lib/python3.10/site-packages/pandas/core/dtypes/missing.py:212\u001b[0m, in \u001b[0;36m_isna\u001b[0;34m(obj, inf_as_na)\u001b[0m\n\u001b[1;32m    210\u001b[0m     \u001b[39mreturn\u001b[39;00m \u001b[39mFalse\u001b[39;00m\n\u001b[1;32m    211\u001b[0m \u001b[39melif\u001b[39;00m \u001b[39misinstance\u001b[39m(obj, (np\u001b[39m.\u001b[39mndarray, ABCExtensionArray)):\n\u001b[0;32m--> 212\u001b[0m     \u001b[39mreturn\u001b[39;00m _isna_array(obj, inf_as_na\u001b[39m=\u001b[39;49minf_as_na)\n\u001b[1;32m    213\u001b[0m \u001b[39melif\u001b[39;00m \u001b[39misinstance\u001b[39m(obj, ABCIndex):\n\u001b[1;32m    214\u001b[0m     \u001b[39m# Try to use cached isna, which also short-circuits for integer dtypes\u001b[39;00m\n\u001b[1;32m    215\u001b[0m     \u001b[39m#  and avoids materializing RangeIndex._values\u001b[39;00m\n\u001b[1;32m    216\u001b[0m     \u001b[39mif\u001b[39;00m \u001b[39mnot\u001b[39;00m obj\u001b[39m.\u001b[39m_can_hold_na:\n",
      "File \u001b[0;32m~/.local/lib/python3.10/site-packages/pandas/core/dtypes/missing.py:294\u001b[0m, in \u001b[0;36m_isna_array\u001b[0;34m(values, inf_as_na)\u001b[0m\n\u001b[1;32m    292\u001b[0m         result \u001b[39m=\u001b[39m values\u001b[39m.\u001b[39misna()  \u001b[39m# type: ignore[assignment]\u001b[39;00m\n\u001b[1;32m    293\u001b[0m \u001b[39melif\u001b[39;00m is_string_or_object_np_dtype(values\u001b[39m.\u001b[39mdtype):\n\u001b[0;32m--> 294\u001b[0m     result \u001b[39m=\u001b[39m _isna_string_dtype(values, inf_as_na\u001b[39m=\u001b[39;49minf_as_na)\n\u001b[1;32m    295\u001b[0m \u001b[39melif\u001b[39;00m needs_i8_conversion(dtype):\n\u001b[1;32m    296\u001b[0m     \u001b[39m# this is the NaT pattern\u001b[39;00m\n\u001b[1;32m    297\u001b[0m     result \u001b[39m=\u001b[39m values\u001b[39m.\u001b[39mview(\u001b[39m\"\u001b[39m\u001b[39mi8\u001b[39m\u001b[39m\"\u001b[39m) \u001b[39m==\u001b[39m iNaT\n",
      "File \u001b[0;32m~/.local/lib/python3.10/site-packages/pandas/core/dtypes/missing.py:315\u001b[0m, in \u001b[0;36m_isna_string_dtype\u001b[0;34m(values, inf_as_na)\u001b[0m\n\u001b[1;32m    313\u001b[0m \u001b[39melse\u001b[39;00m:\n\u001b[1;32m    314\u001b[0m     \u001b[39mif\u001b[39;00m values\u001b[39m.\u001b[39mndim \u001b[39min\u001b[39;00m {\u001b[39m1\u001b[39m, \u001b[39m2\u001b[39m}:\n\u001b[0;32m--> 315\u001b[0m         result \u001b[39m=\u001b[39m libmissing\u001b[39m.\u001b[39;49misnaobj(values, inf_as_na\u001b[39m=\u001b[39;49minf_as_na)\n\u001b[1;32m    316\u001b[0m     \u001b[39melse\u001b[39;00m:\n\u001b[1;32m    317\u001b[0m         \u001b[39m# 0-D, reached via e.g. mask_missing\u001b[39;00m\n\u001b[1;32m    318\u001b[0m         result \u001b[39m=\u001b[39m libmissing\u001b[39m.\u001b[39misnaobj(values\u001b[39m.\u001b[39mravel(), inf_as_na\u001b[39m=\u001b[39minf_as_na)\n",
      "\u001b[0;31mKeyboardInterrupt\u001b[0m: "
     ]
    }
   ],
   "source": [
    "csv_results = benchmark(formats, n_rounds=5)"
   ]
  },
  {
   "cell_type": "code",
   "execution_count": null,
   "metadata": {},
   "outputs": [],
   "source": [
    "csv_results.to_feather('baseline.feather')"
   ]
  },
  {
   "cell_type": "code",
   "execution_count": null,
   "metadata": {},
   "outputs": [],
   "source": [
    "baseline = feather.read_dataframe('baseline.feather')"
   ]
  },
  {
   "cell_type": "code",
   "execution_count": null,
   "metadata": {},
   "outputs": [
    {
     "data": {
      "text/html": [
       "<div>\n",
       "<style scoped>\n",
       "    .dataframe tbody tr th:only-of-type {\n",
       "        vertical-align: middle;\n",
       "    }\n",
       "\n",
       "    .dataframe tbody tr th {\n",
       "        vertical-align: top;\n",
       "    }\n",
       "\n",
       "    .dataframe thead th {\n",
       "        text-align: right;\n",
       "    }\n",
       "</style>\n",
       "<table border=\"1\" class=\"dataframe\">\n",
       "  <thead>\n",
       "    <tr style=\"text-align: right;\">\n",
       "      <th></th>\n",
       "      <th>format</th>\n",
       "      <th>filename</th>\n",
       "      <th>size_mb</th>\n",
       "      <th>save_ram_delta_mb</th>\n",
       "      <th>save_time</th>\n",
       "      <th>load_ram_delta_mb</th>\n",
       "      <th>load_time</th>\n",
       "      <th>run_no</th>\n",
       "    </tr>\n",
       "  </thead>\n",
       "  <tbody>\n",
       "    <tr>\n",
       "      <th>0</th>\n",
       "      <td>csv</td>\n",
       "      <td>random.csv</td>\n",
       "      <td>770.80</td>\n",
       "      <td>4.75</td>\n",
       "      <td>21.380458</td>\n",
       "      <td>498.015625</td>\n",
       "      <td>7.861418</td>\n",
       "      <td>0</td>\n",
       "    </tr>\n",
       "    <tr>\n",
       "      <th>1</th>\n",
       "      <td>csv</td>\n",
       "      <td>random.csv</td>\n",
       "      <td>768.67</td>\n",
       "      <td>0.00</td>\n",
       "      <td>22.436221</td>\n",
       "      <td>498.605469</td>\n",
       "      <td>9.130615</td>\n",
       "      <td>1</td>\n",
       "    </tr>\n",
       "    <tr>\n",
       "      <th>2</th>\n",
       "      <td>csv</td>\n",
       "      <td>random.csv</td>\n",
       "      <td>767.64</td>\n",
       "      <td>0.00</td>\n",
       "      <td>21.246714</td>\n",
       "      <td>505.640625</td>\n",
       "      <td>7.616253</td>\n",
       "      <td>2</td>\n",
       "    </tr>\n",
       "    <tr>\n",
       "      <th>3</th>\n",
       "      <td>csv</td>\n",
       "      <td>random.csv</td>\n",
       "      <td>770.04</td>\n",
       "      <td>0.00</td>\n",
       "      <td>21.363276</td>\n",
       "      <td>473.722656</td>\n",
       "      <td>7.690836</td>\n",
       "      <td>3</td>\n",
       "    </tr>\n",
       "    <tr>\n",
       "      <th>4</th>\n",
       "      <td>csv</td>\n",
       "      <td>random.csv</td>\n",
       "      <td>763.94</td>\n",
       "      <td>0.00</td>\n",
       "      <td>21.610478</td>\n",
       "      <td>497.691406</td>\n",
       "      <td>7.567165</td>\n",
       "      <td>4</td>\n",
       "    </tr>\n",
       "  </tbody>\n",
       "</table>\n",
       "</div>"
      ],
      "text/plain": [
       "  format    filename  size_mb  save_ram_delta_mb  save_time   \n",
       "0    csv  random.csv   770.80               4.75  21.380458  \\\n",
       "1    csv  random.csv   768.67               0.00  22.436221   \n",
       "2    csv  random.csv   767.64               0.00  21.246714   \n",
       "3    csv  random.csv   770.04               0.00  21.363276   \n",
       "4    csv  random.csv   763.94               0.00  21.610478   \n",
       "\n",
       "   load_ram_delta_mb  load_time  run_no  \n",
       "0         498.015625   7.861418       0  \n",
       "1         498.605469   9.130615       1  \n",
       "2         505.640625   7.616253       2  \n",
       "3         473.722656   7.690836       3  \n",
       "4         497.691406   7.567165       4  "
      ]
     },
     "execution_count": 14,
     "metadata": {},
     "output_type": "execute_result"
    }
   ],
   "source": [
    "baseline"
   ]
  },
  {
   "cell_type": "markdown",
   "metadata": {},
   "source": [
    "### Categoricals As Strings"
   ]
  },
  {
   "cell_type": "code",
   "execution_count": null,
   "metadata": {},
   "outputs": [],
   "source": [
    "formats = [\n",
    "    ('feather',),\n",
    "    ('parquet', {'engine': 'pyarrow'})\n",
    "]"
   ]
  },
  {
   "cell_type": "code",
   "execution_count": null,
   "metadata": {},
   "outputs": [
    {
     "name": "stdout",
     "output_type": "stream",
     "text": [
      "Benchmarking round #1\n",
      "\tgenerating dataset...\n",
      "\ttesting format: feather\n",
      "\ttesting format: parquet\n",
      "Benchmarking round #2\n",
      "\tgenerating dataset...\n",
      "\ttesting format: feather\n",
      "\ttesting format: parquet\n",
      "Benchmarking round #3\n",
      "\tgenerating dataset...\n",
      "\ttesting format: feather\n",
      "\ttesting format: parquet\n",
      "Benchmarking round #4\n",
      "\tgenerating dataset...\n",
      "\ttesting format: feather\n",
      "\ttesting format: parquet\n",
      "Benchmarking round #5\n",
      "\tgenerating dataset...\n",
      "\ttesting format: feather\n",
      "\ttesting format: parquet\n",
      "Benchmarking round #6\n",
      "\tgenerating dataset...\n",
      "\ttesting format: feather\n",
      "\ttesting format: parquet\n",
      "Benchmarking round #7\n",
      "\tgenerating dataset...\n",
      "\ttesting format: feather\n",
      "\ttesting format: parquet\n",
      "Benchmarking round #8\n",
      "\tgenerating dataset...\n",
      "\ttesting format: feather\n",
      "\ttesting format: parquet\n",
      "Benchmarking round #9\n",
      "\tgenerating dataset...\n",
      "\ttesting format: feather\n",
      "\ttesting format: parquet\n",
      "Benchmarking round #10\n",
      "\tgenerating dataset...\n",
      "\ttesting format: feather\n",
      "\ttesting format: parquet\n",
      "Benchmarking round #11\n",
      "\tgenerating dataset...\n",
      "\ttesting format: feather\n",
      "\ttesting format: parquet\n",
      "Benchmarking round #12\n",
      "\tgenerating dataset...\n",
      "\ttesting format: feather\n",
      "\ttesting format: parquet\n",
      "Benchmarking round #13\n",
      "\tgenerating dataset...\n",
      "\ttesting format: feather\n",
      "\ttesting format: parquet\n",
      "Benchmarking round #14\n",
      "\tgenerating dataset...\n",
      "\ttesting format: feather\n",
      "\ttesting format: parquet\n",
      "Benchmarking round #15\n",
      "\tgenerating dataset...\n",
      "\ttesting format: feather\n",
      "\ttesting format: parquet\n",
      "Benchmarking round #16\n",
      "\tgenerating dataset...\n",
      "\ttesting format: feather\n",
      "\ttesting format: parquet\n",
      "Benchmarking round #17\n",
      "\tgenerating dataset...\n",
      "\ttesting format: feather\n",
      "\ttesting format: parquet\n",
      "Benchmarking round #18\n",
      "\tgenerating dataset...\n",
      "\ttesting format: feather\n",
      "\ttesting format: parquet\n",
      "Benchmarking round #19\n",
      "\tgenerating dataset...\n",
      "\ttesting format: feather\n",
      "\ttesting format: parquet\n",
      "Benchmarking round #20\n",
      "\tgenerating dataset...\n",
      "\ttesting format: feather\n",
      "\ttesting format: parquet\n"
     ]
    }
   ],
   "source": [
    "results = benchmark(formats)"
   ]
  },
  {
   "cell_type": "code",
   "execution_count": null,
   "metadata": {},
   "outputs": [],
   "source": [
    "results.to_feather('one_million_cats_str.feather')"
   ]
  },
  {
   "cell_type": "code",
   "execution_count": null,
   "metadata": {},
   "outputs": [],
   "source": [
    "results = feather.read_dataframe('one_million_cats_str.feather')"
   ]
  },
  {
   "cell_type": "code",
   "execution_count": null,
   "metadata": {},
   "outputs": [],
   "source": [
    "results = pd.concat([baseline, results], axis=0, sort=False)"
   ]
  },
  {
   "cell_type": "code",
   "execution_count": null,
   "metadata": {},
   "outputs": [
    {
     "name": "stdout",
     "output_type": "stream",
     "text": [
      "format               0\n",
      "filename             0\n",
      "size_mb              0\n",
      "save_ram_delta_mb    0\n",
      "save_time            0\n",
      "load_ram_delta_mb    0\n",
      "load_time            0\n",
      "run_no               0\n",
      "dtype: int64\n"
     ]
    }
   ],
   "source": [
    "print(results.isnull().sum())\n"
   ]
  },
  {
   "cell_type": "code",
   "execution_count": null,
   "metadata": {},
   "outputs": [
    {
     "data": {
      "text/html": [
       "<div>\n",
       "<style scoped>\n",
       "    .dataframe tbody tr th:only-of-type {\n",
       "        vertical-align: middle;\n",
       "    }\n",
       "\n",
       "    .dataframe tbody tr th {\n",
       "        vertical-align: top;\n",
       "    }\n",
       "\n",
       "    .dataframe thead th {\n",
       "        text-align: right;\n",
       "    }\n",
       "</style>\n",
       "<table border=\"1\" class=\"dataframe\">\n",
       "  <thead>\n",
       "    <tr style=\"text-align: right;\">\n",
       "      <th></th>\n",
       "      <th>format</th>\n",
       "      <th>size_mb</th>\n",
       "      <th>save_ram_delta_mb</th>\n",
       "      <th>save_time</th>\n",
       "      <th>load_ram_delta_mb</th>\n",
       "      <th>load_time</th>\n",
       "    </tr>\n",
       "  </thead>\n",
       "  <tbody>\n",
       "    <tr>\n",
       "      <th>0</th>\n",
       "      <td>csv</td>\n",
       "      <td>768.2180</td>\n",
       "      <td>0.950000</td>\n",
       "      <td>21.607429</td>\n",
       "      <td>494.735156</td>\n",
       "      <td>7.973257</td>\n",
       "    </tr>\n",
       "    <tr>\n",
       "      <th>1</th>\n",
       "      <td>feather</td>\n",
       "      <td>225.6625</td>\n",
       "      <td>794.471875</td>\n",
       "      <td>1.223743</td>\n",
       "      <td>503.852539</td>\n",
       "      <td>0.561361</td>\n",
       "    </tr>\n",
       "    <tr>\n",
       "      <th>2</th>\n",
       "      <td>parquet</td>\n",
       "      <td>125.5905</td>\n",
       "      <td>157.387695</td>\n",
       "      <td>2.264781</td>\n",
       "      <td>1367.403125</td>\n",
       "      <td>0.814259</td>\n",
       "    </tr>\n",
       "  </tbody>\n",
       "</table>\n",
       "</div>"
      ],
      "text/plain": [
       "    format   size_mb  save_ram_delta_mb  save_time  load_ram_delta_mb   \n",
       "0      csv  768.2180           0.950000  21.607429         494.735156  \\\n",
       "1  feather  225.6625         794.471875   1.223743         503.852539   \n",
       "2  parquet  125.5905         157.387695   2.264781        1367.403125   \n",
       "\n",
       "   load_time  \n",
       "0   7.973257  \n",
       "1   0.561361  \n",
       "2   0.814259  "
      ]
     },
     "execution_count": 34,
     "metadata": {},
     "output_type": "execute_result"
    }
   ],
   "source": [
    "avg = results.groupby('format').mean(numeric_only=True).reset_index().drop(columns=['run_no'])\n",
    "avg"
   ]
  },
  {
   "cell_type": "code",
   "execution_count": null,
   "metadata": {},
   "outputs": [
    {
     "data": {
      "image/png": "[encoded data removed]",
      "text/plain": [
       "<Figure size 1100x800 with 1 Axes>"
      ]
     },
     "metadata": {},
     "output_type": "display_data"
    }
   ],
   "source": [
    "io_speed = avg[['format', 'save_time', 'load_time']].melt(id_vars='format')\n",
    "ax = sns.barplot(x='format', y='value', hue='variable', data=io_speed)\n",
    "_ = ax.set_xlabel('File Format')\n",
    "_ = ax.set_ylabel('Seconds')\n",
    "_ = ax.set_title('Time to Save/Load a Data Frame\\n(categories as strings)')\n",
    "ax.grid(True)"
   ]
  },
  {
   "cell_type": "code",
   "execution_count": null,
   "metadata": {},
   "outputs": [
    {
     "data": {
      "image/png": "[encoded data removed]",
      "text/plain": [
       "<Figure size 1100x800 with 1 Axes>"
      ]
     },
     "metadata": {},
     "output_type": "display_data"
    }
   ],
   "source": [
    "mem_size = avg[['format', 'save_ram_delta_mb', 'load_ram_delta_mb']].melt(id_vars='format')\n",
    "ax = sns.barplot(x='format', y='value', hue='variable', data=mem_size)\n",
    "_ = ax.set_xlabel('File Format')\n",
    "_ = ax.set_ylabel('Memory, Mb')\n",
    "ax.set_title('Memory Consumption Growth When Saving/Loading\\n(categories as strings)')\n",
    "ax.grid(True)"
   ]
  },
  {
   "cell_type": "code",
   "execution_count": null,
   "metadata": {},
   "outputs": [
    {
     "data": {
      "image/png": "[encoded data removed]",
      "text/plain": [
       "<Figure size 1100x800 with 1 Axes>"
      ]
     },
     "metadata": {},
     "output_type": "display_data"
    }
   ],
   "source": [
    "ax = sns.barplot(x='format', y='size_mb', data=avg)\n",
    "_ = ax.set_xlabel('Memory, Mb')\n",
    "_ = ax.set_ylabel('File Format')\n",
    "_ = ax.set_title('Serialized File Size\\n(categories as strings)')"
   ]
  },
  {
   "cell_type": "markdown",
   "metadata": {},
   "source": [
    "### Categoricals As Dedicated Category Type"
   ]
  },
  {
   "cell_type": "code",
   "execution_count": null,
   "metadata": {},
   "outputs": [
    {
     "name": "stdout",
     "output_type": "stream",
     "text": [
      "Benchmarking round #1\n",
      "\tgenerating dataset...\n",
      "\tconverting categorical columns into pandas.Category\n",
      "\ttesting format: feather\n",
      "\ttesting format: parquet\n",
      "Benchmarking round #2\n",
      "\tgenerating dataset...\n",
      "\tconverting categorical columns into pandas.Category\n",
      "\ttesting format: feather\n",
      "\ttesting format: parquet\n",
      "Benchmarking round #3\n",
      "\tgenerating dataset...\n",
      "\tconverting categorical columns into pandas.Category\n",
      "\ttesting format: feather\n",
      "\ttesting format: parquet\n",
      "Benchmarking round #4\n",
      "\tgenerating dataset...\n",
      "\tconverting categorical columns into pandas.Category\n",
      "\ttesting format: feather\n",
      "\ttesting format: parquet\n",
      "Benchmarking round #5\n",
      "\tgenerating dataset...\n",
      "\tconverting categorical columns into pandas.Category\n",
      "\ttesting format: feather\n",
      "\ttesting format: parquet\n",
      "Benchmarking round #6\n",
      "\tgenerating dataset...\n",
      "\tconverting categorical columns into pandas.Category\n",
      "\ttesting format: feather\n",
      "\ttesting format: parquet\n",
      "Benchmarking round #7\n",
      "\tgenerating dataset...\n",
      "\tconverting categorical columns into pandas.Category\n",
      "\ttesting format: feather\n",
      "\ttesting format: parquet\n",
      "Benchmarking round #8\n",
      "\tgenerating dataset...\n",
      "\tconverting categorical columns into pandas.Category\n",
      "\ttesting format: feather\n",
      "\ttesting format: parquet\n",
      "Benchmarking round #9\n",
      "\tgenerating dataset...\n",
      "\tconverting categorical columns into pandas.Category\n",
      "\ttesting format: feather\n",
      "\ttesting format: parquet\n",
      "Benchmarking round #10\n",
      "\tgenerating dataset...\n",
      "\tconverting categorical columns into pandas.Category\n",
      "\ttesting format: feather\n",
      "\ttesting format: parquet\n",
      "Benchmarking round #11\n",
      "\tgenerating dataset...\n",
      "\tconverting categorical columns into pandas.Category\n",
      "\ttesting format: feather\n",
      "\ttesting format: parquet\n",
      "Benchmarking round #12\n",
      "\tgenerating dataset...\n",
      "\tconverting categorical columns into pandas.Category\n",
      "\ttesting format: feather\n",
      "\ttesting format: parquet\n",
      "Benchmarking round #13\n",
      "\tgenerating dataset...\n",
      "\tconverting categorical columns into pandas.Category\n",
      "\ttesting format: feather\n",
      "\ttesting format: parquet\n",
      "Benchmarking round #14\n",
      "\tgenerating dataset...\n",
      "\tconverting categorical columns into pandas.Category\n",
      "\ttesting format: feather\n",
      "\ttesting format: parquet\n",
      "Benchmarking round #15\n",
      "\tgenerating dataset...\n",
      "\tconverting categorical columns into pandas.Category\n",
      "\ttesting format: feather\n",
      "\ttesting format: parquet\n",
      "Benchmarking round #16\n",
      "\tgenerating dataset...\n",
      "\tconverting categorical columns into pandas.Category\n",
      "\ttesting format: feather\n",
      "\ttesting format: parquet\n",
      "Benchmarking round #17\n",
      "\tgenerating dataset...\n",
      "\tconverting categorical columns into pandas.Category\n",
      "\ttesting format: feather\n",
      "\ttesting format: parquet\n",
      "Benchmarking round #18\n",
      "\tgenerating dataset...\n",
      "\tconverting categorical columns into pandas.Category\n",
      "\ttesting format: feather\n",
      "\ttesting format: parquet\n",
      "Benchmarking round #19\n",
      "\tgenerating dataset...\n",
      "\tconverting categorical columns into pandas.Category\n",
      "\ttesting format: feather\n",
      "\ttesting format: parquet\n",
      "Benchmarking round #20\n",
      "\tgenerating dataset...\n",
      "\tconverting categorical columns into pandas.Category\n",
      "\ttesting format: feather\n",
      "\ttesting format: parquet\n"
     ]
    }
   ],
   "source": [
    "results = benchmark(formats, as_category=True)"
   ]
  },
  {
   "cell_type": "code",
   "execution_count": null,
   "metadata": {},
   "outputs": [],
   "source": [
    "results.to_feather('one_million_cats_category.feather')"
   ]
  },
  {
   "cell_type": "code",
   "execution_count": null,
   "metadata": {},
   "outputs": [],
   "source": [
    "results  = feather.read_dataframe('one_million_cats_category.feather')"
   ]
  },
  {
   "cell_type": "code",
   "execution_count": null,
   "metadata": {},
   "outputs": [],
   "source": [
    "results = pd.concat([baseline, results], axis=0)"
   ]
  },
  {
   "cell_type": "code",
   "execution_count": null,
   "metadata": {},
   "outputs": [
    {
     "data": {
      "text/html": [
       "<div>\n",
       "<style scoped>\n",
       "    .dataframe tbody tr th:only-of-type {\n",
       "        vertical-align: middle;\n",
       "    }\n",
       "\n",
       "    .dataframe tbody tr th {\n",
       "        vertical-align: top;\n",
       "    }\n",
       "\n",
       "    .dataframe thead th {\n",
       "        text-align: right;\n",
       "    }\n",
       "</style>\n",
       "<table border=\"1\" class=\"dataframe\">\n",
       "  <thead>\n",
       "    <tr style=\"text-align: right;\">\n",
       "      <th></th>\n",
       "      <th>format</th>\n",
       "      <th>size_mb</th>\n",
       "      <th>save_ram_delta_mb</th>\n",
       "      <th>save_time</th>\n",
       "      <th>load_ram_delta_mb</th>\n",
       "      <th>load_time</th>\n",
       "    </tr>\n",
       "  </thead>\n",
       "  <tbody>\n",
       "    <tr>\n",
       "      <th>0</th>\n",
       "      <td>csv</td>\n",
       "      <td>768.2180</td>\n",
       "      <td>0.950000</td>\n",
       "      <td>21.607429</td>\n",
       "      <td>494.735156</td>\n",
       "      <td>7.973257</td>\n",
       "    </tr>\n",
       "    <tr>\n",
       "      <th>1</th>\n",
       "      <td>feather</td>\n",
       "      <td>126.1735</td>\n",
       "      <td>18.787500</td>\n",
       "      <td>0.100938</td>\n",
       "      <td>221.273828</td>\n",
       "      <td>0.118989</td>\n",
       "    </tr>\n",
       "    <tr>\n",
       "      <th>2</th>\n",
       "      <td>parquet</td>\n",
       "      <td>124.3690</td>\n",
       "      <td>35.200781</td>\n",
       "      <td>0.698727</td>\n",
       "      <td>328.076367</td>\n",
       "      <td>0.244887</td>\n",
       "    </tr>\n",
       "  </tbody>\n",
       "</table>\n",
       "</div>"
      ],
      "text/plain": [
       "    format   size_mb  save_ram_delta_mb  save_time  load_ram_delta_mb   \n",
       "0      csv  768.2180           0.950000  21.607429         494.735156  \\\n",
       "1  feather  126.1735          18.787500   0.100938         221.273828   \n",
       "2  parquet  124.3690          35.200781   0.698727         328.076367   \n",
       "\n",
       "   load_time  \n",
       "0   7.973257  \n",
       "1   0.118989  \n",
       "2   0.244887  "
      ]
     },
     "execution_count": 57,
     "metadata": {},
     "output_type": "execute_result"
    }
   ],
   "source": [
    "avg = results.groupby('format').mean(numeric_only=True).reset_index().drop(columns=['run_no'])\n",
    "avg"
   ]
  },
  {
   "cell_type": "code",
   "execution_count": null,
   "metadata": {},
   "outputs": [
    {
     "data": {
      "image/png": "[encoded data removed]",
      "text/plain": [
       "<Figure size 1100x800 with 1 Axes>"
      ]
     },
     "metadata": {},
     "output_type": "display_data"
    }
   ],
   "source": [
    "io_speed = avg[['format', 'save_time', 'load_time']].melt(id_vars='format')\n",
    "ax = sns.barplot(x='format', y='value', hue='variable', data=io_speed)\n",
    "_ = ax.set_xlabel('File Format')\n",
    "_ = ax.set_ylabel('Seconds')\n",
    "_ = ax.set_title('Time to Save/Load a Data Frame\\n(categories as pd.Categorical)')\n",
    "ax.grid(True)"
   ]
  },
  {
   "cell_type": "code",
   "execution_count": 8,
   "metadata": {},
   "outputs": [],
   "source": [
    "results  = feather.read_dataframe('one_million_cats_category.feather')"
   ]
  },
  {
   "cell_type": "code",
   "execution_count": 9,
   "metadata": {},
   "outputs": [],
   "source": [
    "avg = results.groupby('format').mean(numeric_only=True).reset_index().drop(columns=['run_no'])"
   ]
  },
  {
   "cell_type": "code",
   "execution_count": 10,
   "metadata": {},
   "outputs": [
    {
     "data": {
      "image/png": "[encoded data removed]",
      "text/plain": [
       "<Figure size 1100x800 with 1 Axes>"
      ]
     },
     "metadata": {},
     "output_type": "display_data"
    }
   ],
   "source": [
    "io_speed = avg[['format', 'save_time', 'load_time']].melt(id_vars='format')\n",
    "ax = sns.barplot(x='format', y='value', hue='variable', data=io_speed)\n",
    "_ = ax.set_xlabel('File Format')\n",
    "_ = ax.set_ylabel('Seconds')\n",
    "_ = ax.set_title('Time to Save/Load a Data Frame\\n(categories as pd.Categorical)')\n",
    "ax.grid(True)"
   ]
  },
  {
   "cell_type": "code",
   "execution_count": 11,
   "metadata": {},
   "outputs": [
    {
     "data": {
      "image/png": "[encoded data removed]",
      "text/plain": [
       "<Figure size 1100x800 with 1 Axes>"
      ]
     },
     "metadata": {},
     "output_type": "display_data"
    }
   ],
   "source": [
    "mem_size = avg[['format', 'save_ram_delta_mb', 'load_ram_delta_mb']].melt(id_vars='format')\n",
    "ax = sns.barplot(x='format', y='value', hue='variable', data=mem_size)\n",
    "_ = ax.set_xlabel('File Format')\n",
    "_ = ax.set_ylabel('Memory, Mb')\n",
    "ax.set_title('Memory Consumption Growth When Saving/Loading\\n(categories as pd.Categorical)')\n",
    "ax.grid(True)"
   ]
  },
  {
   "cell_type": "code",
   "execution_count": 12,
   "metadata": {},
   "outputs": [
    {
     "data": {
      "image/png": "[encoded data removed]",
      "text/plain": [
       "<Figure size 1100x800 with 1 Axes>"
      ]
     },
     "metadata": {},
     "output_type": "display_data"
    }
   ],
   "source": [
    "ax = sns.barplot(x='format', y='size_mb', data=avg)\n",
    "_ = ax.set_xlabel('Memory, Mb')\n",
    "_ = ax.set_ylabel('File Format')\n",
    "_ = ax.set_title('Serialized File Size\\n(categories as pd.Categorical)')"
   ]
  },
  {
   "cell_type": "markdown",
   "metadata": {},
   "source": [
    "## Savings from switching"
   ]
  },
  {
   "cell_type": "code",
   "execution_count": 13,
   "metadata": {},
   "outputs": [
    {
     "ename": "KeyError",
     "evalue": "2",
     "output_type": "error",
     "traceback": [
      "\u001b[0;31m---------------------------------------------------------------------------\u001b[0m",
      "\u001b[0;31mValueError\u001b[0m                                Traceback (most recent call last)",
      "File \u001b[0;32m~/.local/lib/python3.10/site-packages/pandas/core/indexes/range.py:345\u001b[0m, in \u001b[0;36mRangeIndex.get_loc\u001b[0;34m(self, key)\u001b[0m\n\u001b[1;32m    344\u001b[0m \u001b[39mtry\u001b[39;00m:\n\u001b[0;32m--> 345\u001b[0m     \u001b[39mreturn\u001b[39;00m \u001b[39mself\u001b[39;49m\u001b[39m.\u001b[39;49m_range\u001b[39m.\u001b[39;49mindex(new_key)\n\u001b[1;32m    346\u001b[0m \u001b[39mexcept\u001b[39;00m \u001b[39mValueError\u001b[39;00m \u001b[39mas\u001b[39;00m err:\n",
      "\u001b[0;31mValueError\u001b[0m: 2 is not in range",
      "\nThe above exception was the direct cause of the following exception:\n",
      "\u001b[0;31mKeyError\u001b[0m                                  Traceback (most recent call last)",
      "Cell \u001b[0;32mIn[13], line 31\u001b[0m\n\u001b[1;32m     28\u001b[0m to_format \u001b[39m=\u001b[39m \u001b[39m'\u001b[39m\u001b[39mparquet\u001b[39m\u001b[39m'\u001b[39m\n\u001b[1;32m     29\u001b[0m time_type \u001b[39m=\u001b[39m \u001b[39m'\u001b[39m\u001b[39mloading\u001b[39m\u001b[39m'\u001b[39m  \u001b[39m# You can change this to 'saving' or 'loading' or 'total'\u001b[39;00m\n\u001b[0;32m---> 31\u001b[0m time_saved \u001b[39m=\u001b[39m calculate_time_saved(avg, from_format, to_format, time_type)\n\u001b[1;32m     32\u001b[0m \u001b[39mprint\u001b[39m(\u001b[39mf\u001b[39m\u001b[39m\"\u001b[39m\u001b[39mTime saved from switching from \u001b[39m\u001b[39m{\u001b[39;00mfrom_format\u001b[39m}\u001b[39;00m\u001b[39m to \u001b[39m\u001b[39m{\u001b[39;00mto_format\u001b[39m}\u001b[39;00m\u001b[39m (\u001b[39m\u001b[39m{\u001b[39;00mtime_type\u001b[39m}\u001b[39;00m\u001b[39m time): \u001b[39m\u001b[39m{\u001b[39;00mtime_saved\u001b[39m}\u001b[39;00m\u001b[39m seconds\u001b[39m\u001b[39m\"\u001b[39m)\n",
      "Cell \u001b[0;32mIn[13], line 14\u001b[0m, in \u001b[0;36mcalculate_time_saved\u001b[0;34m(data, from_format, to_format, time_type)\u001b[0m\n\u001b[1;32m     12\u001b[0m \u001b[39melif\u001b[39;00m time_type \u001b[39m==\u001b[39m \u001b[39m'\u001b[39m\u001b[39mloading\u001b[39m\u001b[39m'\u001b[39m:\n\u001b[1;32m     13\u001b[0m     time_from \u001b[39m=\u001b[39m data\u001b[39m.\u001b[39mloc[from_format_idx, \u001b[39m'\u001b[39m\u001b[39mload_time\u001b[39m\u001b[39m'\u001b[39m]\n\u001b[0;32m---> 14\u001b[0m     time_to \u001b[39m=\u001b[39m data\u001b[39m.\u001b[39;49mloc[to_format_idx, \u001b[39m'\u001b[39;49m\u001b[39mload_time\u001b[39;49m\u001b[39m'\u001b[39;49m]\n\u001b[1;32m     15\u001b[0m \u001b[39melse\u001b[39;00m:\n\u001b[1;32m     16\u001b[0m     save_time_from \u001b[39m=\u001b[39m data\u001b[39m.\u001b[39mloc[from_format_idx, \u001b[39m'\u001b[39m\u001b[39msave_time\u001b[39m\u001b[39m'\u001b[39m]\n",
      "File \u001b[0;32m~/.local/lib/python3.10/site-packages/pandas/core/indexing.py:1096\u001b[0m, in \u001b[0;36m_LocationIndexer.__getitem__\u001b[0;34m(self, key)\u001b[0m\n\u001b[1;32m   1094\u001b[0m     key \u001b[39m=\u001b[39m \u001b[39mtuple\u001b[39m(com\u001b[39m.\u001b[39mapply_if_callable(x, \u001b[39mself\u001b[39m\u001b[39m.\u001b[39mobj) \u001b[39mfor\u001b[39;00m x \u001b[39min\u001b[39;00m key)\n\u001b[1;32m   1095\u001b[0m     \u001b[39mif\u001b[39;00m \u001b[39mself\u001b[39m\u001b[39m.\u001b[39m_is_scalar_access(key):\n\u001b[0;32m-> 1096\u001b[0m         \u001b[39mreturn\u001b[39;00m \u001b[39mself\u001b[39;49m\u001b[39m.\u001b[39;49mobj\u001b[39m.\u001b[39;49m_get_value(\u001b[39m*\u001b[39;49mkey, takeable\u001b[39m=\u001b[39;49m\u001b[39mself\u001b[39;49m\u001b[39m.\u001b[39;49m_takeable)\n\u001b[1;32m   1097\u001b[0m     \u001b[39mreturn\u001b[39;00m \u001b[39mself\u001b[39m\u001b[39m.\u001b[39m_getitem_tuple(key)\n\u001b[1;32m   1098\u001b[0m \u001b[39melse\u001b[39;00m:\n\u001b[1;32m   1099\u001b[0m     \u001b[39m# we by definition only have the 0th axis\u001b[39;00m\n",
      "File \u001b[0;32m~/.local/lib/python3.10/site-packages/pandas/core/frame.py:3887\u001b[0m, in \u001b[0;36mDataFrame._get_value\u001b[0;34m(self, index, col, takeable)\u001b[0m\n\u001b[1;32m   3881\u001b[0m engine \u001b[39m=\u001b[39m \u001b[39mself\u001b[39m\u001b[39m.\u001b[39mindex\u001b[39m.\u001b[39m_engine\n\u001b[1;32m   3883\u001b[0m \u001b[39mif\u001b[39;00m \u001b[39mnot\u001b[39;00m \u001b[39misinstance\u001b[39m(\u001b[39mself\u001b[39m\u001b[39m.\u001b[39mindex, MultiIndex):\n\u001b[1;32m   3884\u001b[0m     \u001b[39m# CategoricalIndex: Trying to use the engine fastpath may give incorrect\u001b[39;00m\n\u001b[1;32m   3885\u001b[0m     \u001b[39m#  results if our categories are integers that dont match our codes\u001b[39;00m\n\u001b[1;32m   3886\u001b[0m     \u001b[39m# IntervalIndex: IntervalTree has no get_loc\u001b[39;00m\n\u001b[0;32m-> 3887\u001b[0m     row \u001b[39m=\u001b[39m \u001b[39mself\u001b[39;49m\u001b[39m.\u001b[39;49mindex\u001b[39m.\u001b[39;49mget_loc(index)\n\u001b[1;32m   3888\u001b[0m     \u001b[39mreturn\u001b[39;00m series\u001b[39m.\u001b[39m_values[row]\n\u001b[1;32m   3890\u001b[0m \u001b[39m# For MultiIndex going through engine effectively restricts us to\u001b[39;00m\n\u001b[1;32m   3891\u001b[0m \u001b[39m#  same-length tuples; see test_get_set_value_no_partial_indexing\u001b[39;00m\n",
      "File \u001b[0;32m~/.local/lib/python3.10/site-packages/pandas/core/indexes/range.py:347\u001b[0m, in \u001b[0;36mRangeIndex.get_loc\u001b[0;34m(self, key)\u001b[0m\n\u001b[1;32m    345\u001b[0m         \u001b[39mreturn\u001b[39;00m \u001b[39mself\u001b[39m\u001b[39m.\u001b[39m_range\u001b[39m.\u001b[39mindex(new_key)\n\u001b[1;32m    346\u001b[0m     \u001b[39mexcept\u001b[39;00m \u001b[39mValueError\u001b[39;00m \u001b[39mas\u001b[39;00m err:\n\u001b[0;32m--> 347\u001b[0m         \u001b[39mraise\u001b[39;00m \u001b[39mKeyError\u001b[39;00m(key) \u001b[39mfrom\u001b[39;00m \u001b[39merr\u001b[39;00m\n\u001b[1;32m    348\u001b[0m \u001b[39mif\u001b[39;00m \u001b[39misinstance\u001b[39m(key, Hashable):\n\u001b[1;32m    349\u001b[0m     \u001b[39mraise\u001b[39;00m \u001b[39mKeyError\u001b[39;00m(key)\n",
      "\u001b[0;31mKeyError\u001b[0m: 2"
     ]
    }
   ],
   "source": [
    "import pandas as pd\n",
    "\n",
    "def calculate_time_saved(data, from_format, to_format, time_type='total'):\n",
    "    format_idx = {'csv': 0, 'feather': 1, 'parquet': 2}\n",
    "\n",
    "    from_format_idx = format_idx[from_format]\n",
    "    to_format_idx = format_idx[to_format]\n",
    "\n",
    "    if time_type == 'saving':\n",
    "        time_from = data.loc[from_format_idx, 'save_time']\n",
    "        time_to = data.loc[to_format_idx, 'save_time']\n",
    "    elif time_type == 'loading':\n",
    "        time_from = data.loc[from_format_idx, 'load_time']\n",
    "        time_to = data.loc[to_format_idx, 'load_time']\n",
    "    else:\n",
    "        save_time_from = data.loc[from_format_idx, 'save_time']\n",
    "        load_time_from = data.loc[from_format_idx, 'load_time']\n",
    "        save_time_to = data.loc[to_format_idx, 'save_time']\n",
    "        load_time_to = data.loc[to_format_idx, 'load_time']\n",
    "        time_from = save_time_from + load_time_from\n",
    "        time_to = save_time_to + load_time_to\n",
    "\n",
    "    total_time_saved = time_from - time_to\n",
    "\n",
    "    return total_time_saved\n",
    "\n",
    "from_format = 'csv'\n",
    "to_format = 'parquet'\n",
    "time_type = 'loading'  # You can change this to 'saving' or 'loading' or 'total'\n",
    "\n",
    "time_saved = calculate_time_saved(avg, from_format, to_format, time_type)\n",
    "print(f\"Time saved from switching from {from_format} to {to_format} ({time_type} time): {time_saved} seconds\")\n"
   ]
  },
  {
   "cell_type": "code",
   "execution_count": null,
   "metadata": {},
   "outputs": [
    {
     "name": "stdout",
     "output_type": "stream",
     "text": [
      "Yearly time savings from switching from csv to parquet: 17.43 hours\n"
     ]
    }
   ],
   "source": [
    "def calculate_yearly_time_savings(data, from_format, to_format, read_per_week, write_per_week, persons=1, time_unit='seconds'):\n",
    "    days_per_week = 7\n",
    "    weeks_per_year = 52\n",
    "\n",
    "    read_time_saved = calculate_time_saved(data, from_format, to_format, time_type='loading') * read_per_week\n",
    "    write_time_saved = calculate_time_saved(data, from_format, to_format, time_type='saving') * write_per_week\n",
    "\n",
    "    total_time_saved_per_week = read_time_saved + write_time_saved\n",
    "    total_time_saved_per_year = total_time_saved_per_week * weeks_per_year * persons\n",
    "\n",
    "    if time_unit == 'minutes':\n",
    "        total_time_saved_per_year /= 60\n",
    "    elif time_unit == 'hours':\n",
    "        total_time_saved_per_year /= 3600\n",
    "\n",
    "    return total_time_saved_per_year\n",
    "\n",
    "\n",
    "from_format = 'csv'\n",
    "to_format = 'parquet'\n",
    "read_per_week = 5  # Number of reads per week\n",
    "write_per_week = 2  # Number of writes per week\n",
    "persons = 15  # Number of persons performing the tasks\n",
    "time_unit = 'hours'  # Change to 'minutes' if you want the time savings in minutes\n",
    "\n",
    "yearly_time_savings = calculate_yearly_time_savings(avg, from_format, to_format, read_per_week, write_per_week, persons, time_unit)\n",
    "print(f\"Yearly time savings from switching from {from_format} to {to_format}: {yearly_time_savings:.2f} {time_unit}\")\n"
   ]
  },
  {
   "cell_type": "code",
   "execution_count": 14,
   "metadata": {},
   "outputs": [],
   "source": [
    "import locale\n"
   ]
  },
  {
   "cell_type": "code",
   "execution_count": 15,
   "metadata": {},
   "outputs": [
    {
     "ename": "KeyError",
     "evalue": "2",
     "output_type": "error",
     "traceback": [
      "\u001b[0;31m---------------------------------------------------------------------------\u001b[0m",
      "\u001b[0;31mValueError\u001b[0m                                Traceback (most recent call last)",
      "File \u001b[0;32m~/.local/lib/python3.10/site-packages/pandas/core/indexes/range.py:345\u001b[0m, in \u001b[0;36mRangeIndex.get_loc\u001b[0;34m(self, key)\u001b[0m\n\u001b[1;32m    344\u001b[0m \u001b[39mtry\u001b[39;00m:\n\u001b[0;32m--> 345\u001b[0m     \u001b[39mreturn\u001b[39;00m \u001b[39mself\u001b[39;49m\u001b[39m.\u001b[39;49m_range\u001b[39m.\u001b[39;49mindex(new_key)\n\u001b[1;32m    346\u001b[0m \u001b[39mexcept\u001b[39;00m \u001b[39mValueError\u001b[39;00m \u001b[39mas\u001b[39;00m err:\n",
      "\u001b[0;31mValueError\u001b[0m: 2 is not in range",
      "\nThe above exception was the direct cause of the following exception:\n",
      "\u001b[0;31mKeyError\u001b[0m                                  Traceback (most recent call last)",
      "Cell \u001b[0;32mIn[15], line 31\u001b[0m\n\u001b[1;32m     28\u001b[0m daily_wage \u001b[39m=\u001b[39m \u001b[39m2000\u001b[39m  \u001b[39m# Daily wage in your currency\u001b[39;00m\n\u001b[1;32m     29\u001b[0m time_unit \u001b[39m=\u001b[39m \u001b[39m'\u001b[39m\u001b[39mhours\u001b[39m\u001b[39m'\u001b[39m  \u001b[39m# Change to 'minutes' if you want the time savings in minutes\u001b[39;00m\n\u001b[0;32m---> 31\u001b[0m yearly_monetary_savings \u001b[39m=\u001b[39m calculate_yearly_monetary_savings(avg, from_format, to_format, read_per_week, write_per_week, persons, daily_wage, time_unit)\n\u001b[1;32m     32\u001b[0m \u001b[39m# Format monetary savings as Mexican pesos (MXN)\u001b[39;00m\n\u001b[1;32m     33\u001b[0m formatted_savings \u001b[39m=\u001b[39m locale\u001b[39m.\u001b[39mcurrency(yearly_monetary_savings, grouping\u001b[39m=\u001b[39m\u001b[39mTrue\u001b[39;00m)\n",
      "Cell \u001b[0;32mIn[15], line 5\u001b[0m, in \u001b[0;36mcalculate_yearly_monetary_savings\u001b[0;34m(data, from_format, to_format, read_per_week, write_per_week, persons, daily_wage, time_unit)\u001b[0m\n\u001b[1;32m      2\u001b[0m days_per_week \u001b[39m=\u001b[39m \u001b[39m7\u001b[39m\n\u001b[1;32m      3\u001b[0m weeks_per_year \u001b[39m=\u001b[39m \u001b[39m52\u001b[39m\n\u001b[0;32m----> 5\u001b[0m read_time_saved \u001b[39m=\u001b[39m calculate_time_saved(data, from_format, to_format, time_type\u001b[39m=\u001b[39;49m\u001b[39m'\u001b[39;49m\u001b[39mloading\u001b[39;49m\u001b[39m'\u001b[39;49m) \u001b[39m*\u001b[39m read_per_week\n\u001b[1;32m      6\u001b[0m write_time_saved \u001b[39m=\u001b[39m calculate_time_saved(data, from_format, to_format, time_type\u001b[39m=\u001b[39m\u001b[39m'\u001b[39m\u001b[39msaving\u001b[39m\u001b[39m'\u001b[39m) \u001b[39m*\u001b[39m write_per_week\n\u001b[1;32m      8\u001b[0m total_time_saved_per_week \u001b[39m=\u001b[39m read_time_saved \u001b[39m+\u001b[39m write_time_saved\n",
      "Cell \u001b[0;32mIn[13], line 14\u001b[0m, in \u001b[0;36mcalculate_time_saved\u001b[0;34m(data, from_format, to_format, time_type)\u001b[0m\n\u001b[1;32m     12\u001b[0m \u001b[39melif\u001b[39;00m time_type \u001b[39m==\u001b[39m \u001b[39m'\u001b[39m\u001b[39mloading\u001b[39m\u001b[39m'\u001b[39m:\n\u001b[1;32m     13\u001b[0m     time_from \u001b[39m=\u001b[39m data\u001b[39m.\u001b[39mloc[from_format_idx, \u001b[39m'\u001b[39m\u001b[39mload_time\u001b[39m\u001b[39m'\u001b[39m]\n\u001b[0;32m---> 14\u001b[0m     time_to \u001b[39m=\u001b[39m data\u001b[39m.\u001b[39;49mloc[to_format_idx, \u001b[39m'\u001b[39;49m\u001b[39mload_time\u001b[39;49m\u001b[39m'\u001b[39;49m]\n\u001b[1;32m     15\u001b[0m \u001b[39melse\u001b[39;00m:\n\u001b[1;32m     16\u001b[0m     save_time_from \u001b[39m=\u001b[39m data\u001b[39m.\u001b[39mloc[from_format_idx, \u001b[39m'\u001b[39m\u001b[39msave_time\u001b[39m\u001b[39m'\u001b[39m]\n",
      "File \u001b[0;32m~/.local/lib/python3.10/site-packages/pandas/core/indexing.py:1096\u001b[0m, in \u001b[0;36m_LocationIndexer.__getitem__\u001b[0;34m(self, key)\u001b[0m\n\u001b[1;32m   1094\u001b[0m     key \u001b[39m=\u001b[39m \u001b[39mtuple\u001b[39m(com\u001b[39m.\u001b[39mapply_if_callable(x, \u001b[39mself\u001b[39m\u001b[39m.\u001b[39mobj) \u001b[39mfor\u001b[39;00m x \u001b[39min\u001b[39;00m key)\n\u001b[1;32m   1095\u001b[0m     \u001b[39mif\u001b[39;00m \u001b[39mself\u001b[39m\u001b[39m.\u001b[39m_is_scalar_access(key):\n\u001b[0;32m-> 1096\u001b[0m         \u001b[39mreturn\u001b[39;00m \u001b[39mself\u001b[39;49m\u001b[39m.\u001b[39;49mobj\u001b[39m.\u001b[39;49m_get_value(\u001b[39m*\u001b[39;49mkey, takeable\u001b[39m=\u001b[39;49m\u001b[39mself\u001b[39;49m\u001b[39m.\u001b[39;49m_takeable)\n\u001b[1;32m   1097\u001b[0m     \u001b[39mreturn\u001b[39;00m \u001b[39mself\u001b[39m\u001b[39m.\u001b[39m_getitem_tuple(key)\n\u001b[1;32m   1098\u001b[0m \u001b[39melse\u001b[39;00m:\n\u001b[1;32m   1099\u001b[0m     \u001b[39m# we by definition only have the 0th axis\u001b[39;00m\n",
      "File \u001b[0;32m~/.local/lib/python3.10/site-packages/pandas/core/frame.py:3887\u001b[0m, in \u001b[0;36mDataFrame._get_value\u001b[0;34m(self, index, col, takeable)\u001b[0m\n\u001b[1;32m   3881\u001b[0m engine \u001b[39m=\u001b[39m \u001b[39mself\u001b[39m\u001b[39m.\u001b[39mindex\u001b[39m.\u001b[39m_engine\n\u001b[1;32m   3883\u001b[0m \u001b[39mif\u001b[39;00m \u001b[39mnot\u001b[39;00m \u001b[39misinstance\u001b[39m(\u001b[39mself\u001b[39m\u001b[39m.\u001b[39mindex, MultiIndex):\n\u001b[1;32m   3884\u001b[0m     \u001b[39m# CategoricalIndex: Trying to use the engine fastpath may give incorrect\u001b[39;00m\n\u001b[1;32m   3885\u001b[0m     \u001b[39m#  results if our categories are integers that dont match our codes\u001b[39;00m\n\u001b[1;32m   3886\u001b[0m     \u001b[39m# IntervalIndex: IntervalTree has no get_loc\u001b[39;00m\n\u001b[0;32m-> 3887\u001b[0m     row \u001b[39m=\u001b[39m \u001b[39mself\u001b[39;49m\u001b[39m.\u001b[39;49mindex\u001b[39m.\u001b[39;49mget_loc(index)\n\u001b[1;32m   3888\u001b[0m     \u001b[39mreturn\u001b[39;00m series\u001b[39m.\u001b[39m_values[row]\n\u001b[1;32m   3890\u001b[0m \u001b[39m# For MultiIndex going through engine effectively restricts us to\u001b[39;00m\n\u001b[1;32m   3891\u001b[0m \u001b[39m#  same-length tuples; see test_get_set_value_no_partial_indexing\u001b[39;00m\n",
      "File \u001b[0;32m~/.local/lib/python3.10/site-packages/pandas/core/indexes/range.py:347\u001b[0m, in \u001b[0;36mRangeIndex.get_loc\u001b[0;34m(self, key)\u001b[0m\n\u001b[1;32m    345\u001b[0m         \u001b[39mreturn\u001b[39;00m \u001b[39mself\u001b[39m\u001b[39m.\u001b[39m_range\u001b[39m.\u001b[39mindex(new_key)\n\u001b[1;32m    346\u001b[0m     \u001b[39mexcept\u001b[39;00m \u001b[39mValueError\u001b[39;00m \u001b[39mas\u001b[39;00m err:\n\u001b[0;32m--> 347\u001b[0m         \u001b[39mraise\u001b[39;00m \u001b[39mKeyError\u001b[39;00m(key) \u001b[39mfrom\u001b[39;00m \u001b[39merr\u001b[39;00m\n\u001b[1;32m    348\u001b[0m \u001b[39mif\u001b[39;00m \u001b[39misinstance\u001b[39m(key, Hashable):\n\u001b[1;32m    349\u001b[0m     \u001b[39mraise\u001b[39;00m \u001b[39mKeyError\u001b[39;00m(key)\n",
      "\u001b[0;31mKeyError\u001b[0m: 2"
     ]
    }
   ],
   "source": [
    "def calculate_yearly_monetary_savings(data, from_format, to_format, read_per_week, write_per_week, persons=1, daily_wage=0, time_unit='seconds'):\n",
    "    days_per_week = 7\n",
    "    weeks_per_year = 52\n",
    "\n",
    "    read_time_saved = calculate_time_saved(data, from_format, to_format, time_type='loading') * read_per_week\n",
    "    write_time_saved = calculate_time_saved(data, from_format, to_format, time_type='saving') * write_per_week\n",
    "\n",
    "    total_time_saved_per_week = read_time_saved + write_time_saved\n",
    "    total_time_saved_per_year = total_time_saved_per_week * weeks_per_year * persons\n",
    "\n",
    "    if time_unit == 'minutes':\n",
    "        total_time_saved_per_year /= 60\n",
    "    elif time_unit == 'hours':\n",
    "        total_time_saved_per_year /= 3600\n",
    "\n",
    "    monetary_savings_per_year = total_time_saved_per_year * daily_wage\n",
    "\n",
    "    return monetary_savings_per_year\n",
    "\n",
    "# Create a pandas DataFrame with your data\n",
    "# Set the locale to Mexican peso (MXN) format\n",
    "locale.setlocale(locale.LC_ALL, 'es_MX.UTF-8')\n",
    "from_format = 'csv'\n",
    "to_format = 'parquet'\n",
    "read_per_week = 5  # Number of reads per week\n",
    "write_per_week = 2  # Number of writes per week\n",
    "persons = 15  # Number of persons performing the tasks\n",
    "daily_wage = 2000  # Daily wage in your currency\n",
    "time_unit = 'hours'  # Change to 'minutes' if you want the time savings in minutes\n",
    "\n",
    "yearly_monetary_savings = calculate_yearly_monetary_savings(avg, from_format, to_format, read_per_week, write_per_week, persons, daily_wage, time_unit)\n",
    "# Format monetary savings as Mexican pesos (MXN)\n",
    "formatted_savings = locale.currency(yearly_monetary_savings, grouping=True)\n",
    "\n",
    "print(f\"Yearly monetary savings from switching from {from_format} to {to_format}: {formatted_savings}\")\n"
   ]
  },
  {
   "cell_type": "code",
   "execution_count": 16,
   "metadata": {},
   "outputs": [
    {
     "ename": "KeyError",
     "evalue": "2",
     "output_type": "error",
     "traceback": [
      "\u001b[0;31m---------------------------------------------------------------------------\u001b[0m",
      "\u001b[0;31mValueError\u001b[0m                                Traceback (most recent call last)",
      "File \u001b[0;32m~/.local/lib/python3.10/site-packages/pandas/core/indexes/range.py:345\u001b[0m, in \u001b[0;36mRangeIndex.get_loc\u001b[0;34m(self, key)\u001b[0m\n\u001b[1;32m    344\u001b[0m \u001b[39mtry\u001b[39;00m:\n\u001b[0;32m--> 345\u001b[0m     \u001b[39mreturn\u001b[39;00m \u001b[39mself\u001b[39;49m\u001b[39m.\u001b[39;49m_range\u001b[39m.\u001b[39;49mindex(new_key)\n\u001b[1;32m    346\u001b[0m \u001b[39mexcept\u001b[39;00m \u001b[39mValueError\u001b[39;00m \u001b[39mas\u001b[39;00m err:\n",
      "\u001b[0;31mValueError\u001b[0m: 2 is not in range",
      "\nThe above exception was the direct cause of the following exception:\n",
      "\u001b[0;31mKeyError\u001b[0m                                  Traceback (most recent call last)",
      "Cell \u001b[0;32mIn[16], line 19\u001b[0m\n\u001b[1;32m     16\u001b[0m write_savings \u001b[39m=\u001b[39m []\n\u001b[1;32m     18\u001b[0m \u001b[39mfor\u001b[39;00m reads \u001b[39min\u001b[39;00m reads_range:\n\u001b[0;32m---> 19\u001b[0m     read_savings\u001b[39m.\u001b[39mappend(calculate_yearly_monetary_savings(avg, from_format, to_format, reads, write_per_week, persons, daily_wage, time_unit))\n\u001b[1;32m     21\u001b[0m \u001b[39mfor\u001b[39;00m writes \u001b[39min\u001b[39;00m writes_range:\n\u001b[1;32m     22\u001b[0m     write_savings\u001b[39m.\u001b[39mappend(calculate_yearly_monetary_savings(avg, from_format, to_format, read_per_week, writes, persons, daily_wage, time_unit))\n",
      "Cell \u001b[0;32mIn[15], line 5\u001b[0m, in \u001b[0;36mcalculate_yearly_monetary_savings\u001b[0;34m(data, from_format, to_format, read_per_week, write_per_week, persons, daily_wage, time_unit)\u001b[0m\n\u001b[1;32m      2\u001b[0m days_per_week \u001b[39m=\u001b[39m \u001b[39m7\u001b[39m\n\u001b[1;32m      3\u001b[0m weeks_per_year \u001b[39m=\u001b[39m \u001b[39m52\u001b[39m\n\u001b[0;32m----> 5\u001b[0m read_time_saved \u001b[39m=\u001b[39m calculate_time_saved(data, from_format, to_format, time_type\u001b[39m=\u001b[39;49m\u001b[39m'\u001b[39;49m\u001b[39mloading\u001b[39;49m\u001b[39m'\u001b[39;49m) \u001b[39m*\u001b[39m read_per_week\n\u001b[1;32m      6\u001b[0m write_time_saved \u001b[39m=\u001b[39m calculate_time_saved(data, from_format, to_format, time_type\u001b[39m=\u001b[39m\u001b[39m'\u001b[39m\u001b[39msaving\u001b[39m\u001b[39m'\u001b[39m) \u001b[39m*\u001b[39m write_per_week\n\u001b[1;32m      8\u001b[0m total_time_saved_per_week \u001b[39m=\u001b[39m read_time_saved \u001b[39m+\u001b[39m write_time_saved\n",
      "Cell \u001b[0;32mIn[13], line 14\u001b[0m, in \u001b[0;36mcalculate_time_saved\u001b[0;34m(data, from_format, to_format, time_type)\u001b[0m\n\u001b[1;32m     12\u001b[0m \u001b[39melif\u001b[39;00m time_type \u001b[39m==\u001b[39m \u001b[39m'\u001b[39m\u001b[39mloading\u001b[39m\u001b[39m'\u001b[39m:\n\u001b[1;32m     13\u001b[0m     time_from \u001b[39m=\u001b[39m data\u001b[39m.\u001b[39mloc[from_format_idx, \u001b[39m'\u001b[39m\u001b[39mload_time\u001b[39m\u001b[39m'\u001b[39m]\n\u001b[0;32m---> 14\u001b[0m     time_to \u001b[39m=\u001b[39m data\u001b[39m.\u001b[39;49mloc[to_format_idx, \u001b[39m'\u001b[39;49m\u001b[39mload_time\u001b[39;49m\u001b[39m'\u001b[39;49m]\n\u001b[1;32m     15\u001b[0m \u001b[39melse\u001b[39;00m:\n\u001b[1;32m     16\u001b[0m     save_time_from \u001b[39m=\u001b[39m data\u001b[39m.\u001b[39mloc[from_format_idx, \u001b[39m'\u001b[39m\u001b[39msave_time\u001b[39m\u001b[39m'\u001b[39m]\n",
      "File \u001b[0;32m~/.local/lib/python3.10/site-packages/pandas/core/indexing.py:1096\u001b[0m, in \u001b[0;36m_LocationIndexer.__getitem__\u001b[0;34m(self, key)\u001b[0m\n\u001b[1;32m   1094\u001b[0m     key \u001b[39m=\u001b[39m \u001b[39mtuple\u001b[39m(com\u001b[39m.\u001b[39mapply_if_callable(x, \u001b[39mself\u001b[39m\u001b[39m.\u001b[39mobj) \u001b[39mfor\u001b[39;00m x \u001b[39min\u001b[39;00m key)\n\u001b[1;32m   1095\u001b[0m     \u001b[39mif\u001b[39;00m \u001b[39mself\u001b[39m\u001b[39m.\u001b[39m_is_scalar_access(key):\n\u001b[0;32m-> 1096\u001b[0m         \u001b[39mreturn\u001b[39;00m \u001b[39mself\u001b[39;49m\u001b[39m.\u001b[39;49mobj\u001b[39m.\u001b[39;49m_get_value(\u001b[39m*\u001b[39;49mkey, takeable\u001b[39m=\u001b[39;49m\u001b[39mself\u001b[39;49m\u001b[39m.\u001b[39;49m_takeable)\n\u001b[1;32m   1097\u001b[0m     \u001b[39mreturn\u001b[39;00m \u001b[39mself\u001b[39m\u001b[39m.\u001b[39m_getitem_tuple(key)\n\u001b[1;32m   1098\u001b[0m \u001b[39melse\u001b[39;00m:\n\u001b[1;32m   1099\u001b[0m     \u001b[39m# we by definition only have the 0th axis\u001b[39;00m\n",
      "File \u001b[0;32m~/.local/lib/python3.10/site-packages/pandas/core/frame.py:3887\u001b[0m, in \u001b[0;36mDataFrame._get_value\u001b[0;34m(self, index, col, takeable)\u001b[0m\n\u001b[1;32m   3881\u001b[0m engine \u001b[39m=\u001b[39m \u001b[39mself\u001b[39m\u001b[39m.\u001b[39mindex\u001b[39m.\u001b[39m_engine\n\u001b[1;32m   3883\u001b[0m \u001b[39mif\u001b[39;00m \u001b[39mnot\u001b[39;00m \u001b[39misinstance\u001b[39m(\u001b[39mself\u001b[39m\u001b[39m.\u001b[39mindex, MultiIndex):\n\u001b[1;32m   3884\u001b[0m     \u001b[39m# CategoricalIndex: Trying to use the engine fastpath may give incorrect\u001b[39;00m\n\u001b[1;32m   3885\u001b[0m     \u001b[39m#  results if our categories are integers that dont match our codes\u001b[39;00m\n\u001b[1;32m   3886\u001b[0m     \u001b[39m# IntervalIndex: IntervalTree has no get_loc\u001b[39;00m\n\u001b[0;32m-> 3887\u001b[0m     row \u001b[39m=\u001b[39m \u001b[39mself\u001b[39;49m\u001b[39m.\u001b[39;49mindex\u001b[39m.\u001b[39;49mget_loc(index)\n\u001b[1;32m   3888\u001b[0m     \u001b[39mreturn\u001b[39;00m series\u001b[39m.\u001b[39m_values[row]\n\u001b[1;32m   3890\u001b[0m \u001b[39m# For MultiIndex going through engine effectively restricts us to\u001b[39;00m\n\u001b[1;32m   3891\u001b[0m \u001b[39m#  same-length tuples; see test_get_set_value_no_partial_indexing\u001b[39;00m\n",
      "File \u001b[0;32m~/.local/lib/python3.10/site-packages/pandas/core/indexes/range.py:347\u001b[0m, in \u001b[0;36mRangeIndex.get_loc\u001b[0;34m(self, key)\u001b[0m\n\u001b[1;32m    345\u001b[0m         \u001b[39mreturn\u001b[39;00m \u001b[39mself\u001b[39m\u001b[39m.\u001b[39m_range\u001b[39m.\u001b[39mindex(new_key)\n\u001b[1;32m    346\u001b[0m     \u001b[39mexcept\u001b[39;00m \u001b[39mValueError\u001b[39;00m \u001b[39mas\u001b[39;00m err:\n\u001b[0;32m--> 347\u001b[0m         \u001b[39mraise\u001b[39;00m \u001b[39mKeyError\u001b[39;00m(key) \u001b[39mfrom\u001b[39;00m \u001b[39merr\u001b[39;00m\n\u001b[1;32m    348\u001b[0m \u001b[39mif\u001b[39;00m \u001b[39misinstance\u001b[39m(key, Hashable):\n\u001b[1;32m    349\u001b[0m     \u001b[39mraise\u001b[39;00m \u001b[39mKeyError\u001b[39;00m(key)\n",
      "\u001b[0;31mKeyError\u001b[0m: 2"
     ]
    }
   ],
   "source": [
    "import matplotlib.pyplot as plt\n",
    "# Set the locale to Mexican peso (MXN) format\n",
    "locale.setlocale(locale.LC_ALL, 'es_MX.UTF-8')\n",
    "from_format = 'csv'\n",
    "to_format = 'parquet'\n",
    "read_per_week = 5  # Number of reads per week\n",
    "write_per_week = 2  # Number of writes per week\n",
    "persons = 15  # Number of persons performing the tasks\n",
    "daily_wage = 2000  # Daily wage in your currency\n",
    "time_unit = 'hours'  # Change to 'minutes' if you want the time savings in minutes\n",
    "# Generate data for the plots\n",
    "reads_range = range(1, 11)  # Number of reads per week from 1 to 10\n",
    "writes_range = range(1, 11)  # Number of writes per week from 1 to 10\n",
    "\n",
    "read_savings = []\n",
    "write_savings = []\n",
    "\n",
    "for reads in reads_range:\n",
    "    read_savings.append(calculate_yearly_monetary_savings(avg, from_format, to_format, reads, write_per_week, persons, daily_wage, time_unit))\n",
    "\n",
    "for writes in writes_range:\n",
    "    write_savings.append(calculate_yearly_monetary_savings(avg, from_format, to_format, read_per_week, writes, persons, daily_wage, time_unit))\n",
    "\n",
    "\n",
    "# Create the first plot (Number of Reads vs. Monetary Savings)\n",
    "plt.figure(figsize=(10, 5))\n",
    "plt.bar(reads_range, read_savings)\n",
    "plt.xlabel('Number of Reads per Week')\n",
    "plt.ylabel('')\n",
    "plt.title('Yearly Monetary Savings (MXN)')\n",
    "plt.ticklabel_format(style='plain', axis='y', useLocale=True)  # Add thousands separator to y-axis\n",
    "plt.xticks(writes_range)  # Show all tick marks on the x-axis\n",
    "plt.show()\n",
    "\n",
    "# Create the second plot (Number of Writes vs. Monetary Savings)\n",
    "plt.figure(figsize=(10, 5))\n",
    "plt.bar(writes_range, write_savings)\n",
    "plt.xlabel('Number of Writes per Week')\n",
    "plt.ylabel('')\n",
    "plt.title('Yearly Monetary Savings (MXN)')\n",
    "plt.ticklabel_format(style='plain', axis='y', useLocale=True)  # Add thousands separator to y-axis\n",
    "plt.xticks(writes_range)  # Show all tick marks on the x-axis\n",
    "plt.show()\n"
   ]
  },
  {
   "cell_type": "code",
   "execution_count": 17,
   "metadata": {},
   "outputs": [
    {
     "data": {
      "application/vnd.plotly.v1+json": {
       "config": {
        "plotlyServerURL": "https://plot.ly"
       },
       "data": [
        {
         "alignmentgroup": "True",
         "hovertemplate": "Combined Read and Write Scenarios=%{x}<br>Yearly Monetary Savings (MXN)=%{y}<extra></extra>",
         "legendgroup": "",
         "marker": {
          "color": "#636efa",
          "pattern": {
           "shape": ""
          }
         },
         "name": "",
         "offsetgroup": "",
         "orientation": "v",
         "showlegend": false,
         "textposition": "auto",
         "type": "bar",
         "x": [
          "Reads: 1, Writes: 1",
          "Reads: 1, Writes: 2",
          "Reads: 1, Writes: 3",
          "Reads: 1, Writes: 4",
          "Reads: 1, Writes: 5",
          "Reads: 1, Writes: 6",
          "Reads: 1, Writes: 7",
          "Reads: 1, Writes: 8",
          "Reads: 1, Writes: 9",
          "Reads: 1, Writes: 10",
          "Reads: 2, Writes: 1",
          "Reads: 2, Writes: 2",
          "Reads: 2, Writes: 3",
          "Reads: 2, Writes: 4",
          "Reads: 2, Writes: 5",
          "Reads: 2, Writes: 6",
          "Reads: 2, Writes: 7",
          "Reads: 2, Writes: 8",
          "Reads: 2, Writes: 9",
          "Reads: 2, Writes: 10",
          "Reads: 3, Writes: 1",
          "Reads: 3, Writes: 2",
          "Reads: 3, Writes: 3",
          "Reads: 3, Writes: 4",
          "Reads: 3, Writes: 5",
          "Reads: 3, Writes: 6",
          "Reads: 3, Writes: 7",
          "Reads: 3, Writes: 8",
          "Reads: 3, Writes: 9",
          "Reads: 3, Writes: 10",
          "Reads: 4, Writes: 1",
          "Reads: 4, Writes: 2",
          "Reads: 4, Writes: 3",
          "Reads: 4, Writes: 4",
          "Reads: 4, Writes: 5",
          "Reads: 4, Writes: 6",
          "Reads: 4, Writes: 7",
          "Reads: 4, Writes: 8",
          "Reads: 4, Writes: 9",
          "Reads: 4, Writes: 10",
          "Reads: 5, Writes: 1",
          "Reads: 5, Writes: 2",
          "Reads: 5, Writes: 3",
          "Reads: 5, Writes: 4",
          "Reads: 5, Writes: 5",
          "Reads: 5, Writes: 6",
          "Reads: 5, Writes: 7",
          "Reads: 5, Writes: 8",
          "Reads: 5, Writes: 9",
          "Reads: 5, Writes: 10",
          "Reads: 6, Writes: 1",
          "Reads: 6, Writes: 2",
          "Reads: 6, Writes: 3",
          "Reads: 6, Writes: 4",
          "Reads: 6, Writes: 5",
          "Reads: 6, Writes: 6",
          "Reads: 6, Writes: 7",
          "Reads: 6, Writes: 8",
          "Reads: 6, Writes: 9",
          "Reads: 6, Writes: 10",
          "Reads: 7, Writes: 1",
          "Reads: 7, Writes: 2",
          "Reads: 7, Writes: 3",
          "Reads: 7, Writes: 4",
          "Reads: 7, Writes: 5",
          "Reads: 7, Writes: 6",
          "Reads: 7, Writes: 7",
          "Reads: 7, Writes: 8",
          "Reads: 7, Writes: 9",
          "Reads: 7, Writes: 10",
          "Reads: 8, Writes: 1",
          "Reads: 8, Writes: 2",
          "Reads: 8, Writes: 3",
          "Reads: 8, Writes: 4",
          "Reads: 8, Writes: 5",
          "Reads: 8, Writes: 6",
          "Reads: 8, Writes: 7",
          "Reads: 8, Writes: 8",
          "Reads: 8, Writes: 9",
          "Reads: 8, Writes: 10",
          "Reads: 9, Writes: 1",
          "Reads: 9, Writes: 2",
          "Reads: 9, Writes: 3",
          "Reads: 9, Writes: 4",
          "Reads: 9, Writes: 5",
          "Reads: 9, Writes: 6",
          "Reads: 9, Writes: 7",
          "Reads: 9, Writes: 8",
          "Reads: 9, Writes: 9",
          "Reads: 9, Writes: 10",
          "Reads: 10, Writes: 1",
          "Reads: 10, Writes: 2",
          "Reads: 10, Writes: 3",
          "Reads: 10, Writes: 4",
          "Reads: 10, Writes: 5",
          "Reads: 10, Writes: 6",
          "Reads: 10, Writes: 7",
          "Reads: 10, Writes: 8",
          "Reads: 10, Writes: 9",
          "Reads: 10, Writes: 10"
         ],
         "xaxis": "x",
         "y": [
          11484.046600000001,
          19865.860733333335,
          28247.674866666668,
          36629.489,
          45011.303133333335,
          53393.117266666675,
          61774.931399999994,
          70156.74553333333,
          78538.55966666667,
          86920.3738,
          14586.279066666668,
          22968.093200000003,
          31349.907333333336,
          39731.72146666667,
          48113.535599999996,
          56495.349733333336,
          64877.16386666666,
          73258.978,
          81640.79213333332,
          90022.60626666667,
          17688.511533333334,
          26070.325666666668,
          34452.1398,
          42833.95393333333,
          51215.76806666667,
          59597.5822,
          67979.39633333332,
          76361.21046666667,
          84743.0246,
          93124.83873333332,
          20790.743999999995,
          29172.558133333336,
          37554.372266666665,
          45936.186400000006,
          54318.00053333333,
          62699.81466666667,
          71081.6288,
          79463.44293333334,
          87845.25706666667,
          96227.07119999999,
          23892.976466666663,
          32274.790600000004,
          40656.60473333333,
          49038.41886666667,
          57420.23299999999,
          65802.04713333334,
          74183.86126666669,
          82565.67540000001,
          90947.48953333336,
          99329.30366666667,
          26995.20893333334,
          35377.02306666667,
          43758.8372,
          52140.651333333335,
          60522.46546666666,
          68904.2796,
          77286.09373333333,
          85667.90786666666,
          94049.72200000001,
          102431.53613333334,
          30097.4414,
          38479.25553333334,
          46861.06966666667,
          55242.88380000001,
          63624.69793333335,
          72006.51206666669,
          80388.3262,
          88770.14033333333,
          97151.95446666666,
          105533.7686,
          33199.673866666664,
          41581.48799999999,
          49963.30213333334,
          58345.11626666667,
          66726.9304,
          75108.74453333333,
          83490.55866666668,
          91872.37280000001,
          100254.18693333335,
          108636.00106666666,
          36301.90633333333,
          44683.72046666667,
          53065.534600000006,
          61447.34873333334,
          69829.16286666667,
          78210.977,
          86592.79113333335,
          94974.60526666667,
          103356.4194,
          111738.23353333335,
          39404.13879999999,
          47785.95293333333,
          56167.767066666675,
          64549.58120000001,
          72931.39533333333,
          81313.20946666667,
          89695.0236,
          98076.83773333333,
          106458.65186666667,
          114840.46599999999
         ],
         "yaxis": "y"
        }
       ],
       "layout": {
        "barmode": "relative",
        "legend": {
         "tracegroupgap": 0
        },
        "template": {
         "data": {
          "bar": [
           {
            "error_x": {
             "color": "#2a3f5f"
            },
            "error_y": {
             "color": "#2a3f5f"
            },
            "marker": {
             "line": {
              "color": "#E5ECF6",
              "width": 0.5
             },
             "pattern": {
              "fillmode": "overlay",
              "size": 10,
              "solidity": 0.2
             }
            },
            "type": "bar"
           }
          ],
          "barpolar": [
           {
            "marker": {
             "line": {
              "color": "#E5ECF6",
              "width": 0.5
             },
             "pattern": {
              "fillmode": "overlay",
              "size": 10,
              "solidity": 0.2
             }
            },
            "type": "barpolar"
           }
          ],
          "carpet": [
           {
            "aaxis": {
             "endlinecolor": "#2a3f5f",
             "gridcolor": "white",
             "linecolor": "white",
             "minorgridcolor": "white",
             "startlinecolor": "#2a3f5f"
            },
            "baxis": {
             "endlinecolor": "#2a3f5f",
             "gridcolor": "white",
             "linecolor": "white",
             "minorgridcolor": "white",
             "startlinecolor": "#2a3f5f"
            },
            "type": "carpet"
           }
          ],
          "choropleth": [
           {
            "colorbar": {
             "outlinewidth": 0,
             "ticks": ""
            },
            "type": "choropleth"
           }
          ],
          "contour": [
           {
            "colorbar": {
             "outlinewidth": 0,
             "ticks": ""
            },
            "colorscale": [
             [
              0,
              "#0d0887"
             ],
             [
              0.1111111111111111,
              "#46039f"
             ],
             [
              0.2222222222222222,
              "#7201a8"
             ],
             [
              0.3333333333333333,
              "#9c179e"
             ],
             [
              0.4444444444444444,
              "#bd3786"
             ],
             [
              0.5555555555555556,
              "#d8576b"
             ],
             [
              0.6666666666666666,
              "#ed7953"
             ],
             [
              0.7777777777777778,
              "#fb9f3a"
             ],
             [
              0.8888888888888888,
              "#fdca26"
             ],
             [
              1,
              "#f0f921"
             ]
            ],
            "type": "contour"
           }
          ],
          "contourcarpet": [
           {
            "colorbar": {
             "outlinewidth": 0,
             "ticks": ""
            },
            "type": "contourcarpet"
           }
          ],
          "heatmap": [
           {
            "colorbar": {
             "outlinewidth": 0,
             "ticks": ""
            },
            "colorscale": [
             [
              0,
              "#0d0887"
             ],
             [
              0.1111111111111111,
              "#46039f"
             ],
             [
              0.2222222222222222,
              "#7201a8"
             ],
             [
              0.3333333333333333,
              "#9c179e"
             ],
             [
              0.4444444444444444,
              "#bd3786"
             ],
             [
              0.5555555555555556,
              "#d8576b"
             ],
             [
              0.6666666666666666,
              "#ed7953"
             ],
             [
              0.7777777777777778,
              "#fb9f3a"
             ],
             [
              0.8888888888888888,
              "#fdca26"
             ],
             [
              1,
              "#f0f921"
             ]
            ],
            "type": "heatmap"
           }
          ],
          "heatmapgl": [
           {
            "colorbar": {
             "outlinewidth": 0,
             "ticks": ""
            },
            "colorscale": [
             [
              0,
              "#0d0887"
             ],
             [
              0.1111111111111111,
              "#46039f"
             ],
             [
              0.2222222222222222,
              "#7201a8"
             ],
             [
              0.3333333333333333,
              "#9c179e"
             ],
             [
              0.4444444444444444,
              "#bd3786"
             ],
             [
              0.5555555555555556,
              "#d8576b"
             ],
             [
              0.6666666666666666,
              "#ed7953"
             ],
             [
              0.7777777777777778,
              "#fb9f3a"
             ],
             [
              0.8888888888888888,
              "#fdca26"
             ],
             [
              1,
              "#f0f921"
             ]
            ],
            "type": "heatmapgl"
           }
          ],
          "histogram": [
           {
            "marker": {
             "pattern": {
              "fillmode": "overlay",
              "size": 10,
              "solidity": 0.2
             }
            },
            "type": "histogram"
           }
          ],
          "histogram2d": [
           {
            "colorbar": {
             "outlinewidth": 0,
             "ticks": ""
            },
            "colorscale": [
             [
              0,
              "#0d0887"
             ],
             [
              0.1111111111111111,
              "#46039f"
             ],
             [
              0.2222222222222222,
              "#7201a8"
             ],
             [
              0.3333333333333333,
              "#9c179e"
             ],
             [
              0.4444444444444444,
              "#bd3786"
             ],
             [
              0.5555555555555556,
              "#d8576b"
             ],
             [
              0.6666666666666666,
              "#ed7953"
             ],
             [
              0.7777777777777778,
              "#fb9f3a"
             ],
             [
              0.8888888888888888,
              "#fdca26"
             ],
             [
              1,
              "#f0f921"
             ]
            ],
            "type": "histogram2d"
           }
          ],
          "histogram2dcontour": [
           {
            "colorbar": {
             "outlinewidth": 0,
             "ticks": ""
            },
            "colorscale": [
             [
              0,
              "#0d0887"
             ],
             [
              0.1111111111111111,
              "#46039f"
             ],
             [
              0.2222222222222222,
              "#7201a8"
             ],
             [
              0.3333333333333333,
              "#9c179e"
             ],
             [
              0.4444444444444444,
              "#bd3786"
             ],
             [
              0.5555555555555556,
              "#d8576b"
             ],
             [
              0.6666666666666666,
              "#ed7953"
             ],
             [
              0.7777777777777778,
              "#fb9f3a"
             ],
             [
              0.8888888888888888,
              "#fdca26"
             ],
             [
              1,
              "#f0f921"
             ]
            ],
            "type": "histogram2dcontour"
           }
          ],
          "mesh3d": [
           {
            "colorbar": {
             "outlinewidth": 0,
             "ticks": ""
            },
            "type": "mesh3d"
           }
          ],
          "parcoords": [
           {
            "line": {
             "colorbar": {
              "outlinewidth": 0,
              "ticks": ""
             }
            },
            "type": "parcoords"
           }
          ],
          "pie": [
           {
            "automargin": true,
            "type": "pie"
           }
          ],
          "scatter": [
           {
            "fillpattern": {
             "fillmode": "overlay",
             "size": 10,
             "solidity": 0.2
            },
            "type": "scatter"
           }
          ],
          "scatter3d": [
           {
            "line": {
             "colorbar": {
              "outlinewidth": 0,
              "ticks": ""
             }
            },
            "marker": {
             "colorbar": {
              "outlinewidth": 0,
              "ticks": ""
             }
            },
            "type": "scatter3d"
           }
          ],
          "scattercarpet": [
           {
            "marker": {
             "colorbar": {
              "outlinewidth": 0,
              "ticks": ""
             }
            },
            "type": "scattercarpet"
           }
          ],
          "scattergeo": [
           {
            "marker": {
             "colorbar": {
              "outlinewidth": 0,
              "ticks": ""
             }
            },
            "type": "scattergeo"
           }
          ],
          "scattergl": [
           {
            "marker": {
             "colorbar": {
              "outlinewidth": 0,
              "ticks": ""
             }
            },
            "type": "scattergl"
           }
          ],
          "scattermapbox": [
           {
            "marker": {
             "colorbar": {
              "outlinewidth": 0,
              "ticks": ""
             }
            },
            "type": "scattermapbox"
           }
          ],
          "scatterpolar": [
           {
            "marker": {
             "colorbar": {
              "outlinewidth": 0,
              "ticks": ""
             }
            },
            "type": "scatterpolar"
           }
          ],
          "scatterpolargl": [
           {
            "marker": {
             "colorbar": {
              "outlinewidth": 0,
              "ticks": ""
             }
            },
            "type": "scatterpolargl"
           }
          ],
          "scatterternary": [
           {
            "marker": {
             "colorbar": {
              "outlinewidth": 0,
              "ticks": ""
             }
            },
            "type": "scatterternary"
           }
          ],
          "surface": [
           {
            "colorbar": {
             "outlinewidth": 0,
             "ticks": ""
            },
            "colorscale": [
             [
              0,
              "#0d0887"
             ],
             [
              0.1111111111111111,
              "#46039f"
             ],
             [
              0.2222222222222222,
              "#7201a8"
             ],
             [
              0.3333333333333333,
              "#9c179e"
             ],
             [
              0.4444444444444444,
              "#bd3786"
             ],
             [
              0.5555555555555556,
              "#d8576b"
             ],
             [
              0.6666666666666666,
              "#ed7953"
             ],
             [
              0.7777777777777778,
              "#fb9f3a"
             ],
             [
              0.8888888888888888,
              "#fdca26"
             ],
             [
              1,
              "#f0f921"
             ]
            ],
            "type": "surface"
           }
          ],
          "table": [
           {
            "cells": {
             "fill": {
              "color": "#EBF0F8"
             },
             "line": {
              "color": "white"
             }
            },
            "header": {
             "fill": {
              "color": "#C8D4E3"
             },
             "line": {
              "color": "white"
             }
            },
            "type": "table"
           }
          ]
         },
         "layout": {
          "annotationdefaults": {
           "arrowcolor": "#2a3f5f",
           "arrowhead": 0,
           "arrowwidth": 1
          },
          "autotypenumbers": "strict",
          "coloraxis": {
           "colorbar": {
            "outlinewidth": 0,
            "ticks": ""
           }
          },
          "colorscale": {
           "diverging": [
            [
             0,
             "#8e0152"
            ],
            [
             0.1,
             "#c51b7d"
            ],
            [
             0.2,
             "#de77ae"
            ],
            [
             0.3,
             "#f1b6da"
            ],
            [
             0.4,
             "#fde0ef"
            ],
            [
             0.5,
             "#f7f7f7"
            ],
            [
             0.6,
             "#e6f5d0"
            ],
            [
             0.7,
             "#b8e186"
            ],
            [
             0.8,
             "#7fbc41"
            ],
            [
             0.9,
             "#4d9221"
            ],
            [
             1,
             "#276419"
            ]
           ],
           "sequential": [
            [
             0,
             "#0d0887"
            ],
            [
             0.1111111111111111,
             "#46039f"
            ],
            [
             0.2222222222222222,
             "#7201a8"
            ],
            [
             0.3333333333333333,
             "#9c179e"
            ],
            [
             0.4444444444444444,
             "#bd3786"
            ],
            [
             0.5555555555555556,
             "#d8576b"
            ],
            [
             0.6666666666666666,
             "#ed7953"
            ],
            [
             0.7777777777777778,
             "#fb9f3a"
            ],
            [
             0.8888888888888888,
             "#fdca26"
            ],
            [
             1,
             "#f0f921"
            ]
           ],
           "sequentialminus": [
            [
             0,
             "#0d0887"
            ],
            [
             0.1111111111111111,
             "#46039f"
            ],
            [
             0.2222222222222222,
             "#7201a8"
            ],
            [
             0.3333333333333333,
             "#9c179e"
            ],
            [
             0.4444444444444444,
             "#bd3786"
            ],
            [
             0.5555555555555556,
             "#d8576b"
            ],
            [
             0.6666666666666666,
             "#ed7953"
            ],
            [
             0.7777777777777778,
             "#fb9f3a"
            ],
            [
             0.8888888888888888,
             "#fdca26"
            ],
            [
             1,
             "#f0f921"
            ]
           ]
          },
          "colorway": [
           "#636efa",
           "#EF553B",
           "#00cc96",
           "#ab63fa",
           "#FFA15A",
           "#19d3f3",
           "#FF6692",
           "#B6E880",
           "#FF97FF",
           "#FECB52"
          ],
          "font": {
           "color": "#2a3f5f"
          },
          "geo": {
           "bgcolor": "white",
           "lakecolor": "white",
           "landcolor": "#E5ECF6",
           "showlakes": true,
           "showland": true,
           "subunitcolor": "white"
          },
          "hoverlabel": {
           "align": "left"
          },
          "hovermode": "closest",
          "mapbox": {
           "style": "light"
          },
          "paper_bgcolor": "white",
          "plot_bgcolor": "#E5ECF6",
          "polar": {
           "angularaxis": {
            "gridcolor": "white",
            "linecolor": "white",
            "ticks": ""
           },
           "bgcolor": "#E5ECF6",
           "radialaxis": {
            "gridcolor": "white",
            "linecolor": "white",
            "ticks": ""
           }
          },
          "scene": {
           "xaxis": {
            "backgroundcolor": "#E5ECF6",
            "gridcolor": "white",
            "gridwidth": 2,
            "linecolor": "white",
            "showbackground": true,
            "ticks": "",
            "zerolinecolor": "white"
           },
           "yaxis": {
            "backgroundcolor": "#E5ECF6",
            "gridcolor": "white",
            "gridwidth": 2,
            "linecolor": "white",
            "showbackground": true,
            "ticks": "",
            "zerolinecolor": "white"
           },
           "zaxis": {
            "backgroundcolor": "#E5ECF6",
            "gridcolor": "white",
            "gridwidth": 2,
            "linecolor": "white",
            "showbackground": true,
            "ticks": "",
            "zerolinecolor": "white"
           }
          },
          "shapedefaults": {
           "line": {
            "color": "#2a3f5f"
           }
          },
          "ternary": {
           "aaxis": {
            "gridcolor": "white",
            "linecolor": "white",
            "ticks": ""
           },
           "baxis": {
            "gridcolor": "white",
            "linecolor": "white",
            "ticks": ""
           },
           "bgcolor": "#E5ECF6",
           "caxis": {
            "gridcolor": "white",
            "linecolor": "white",
            "ticks": ""
           }
          },
          "title": {
           "x": 0.05
          },
          "xaxis": {
           "automargin": true,
           "gridcolor": "white",
           "linecolor": "white",
           "ticks": "",
           "title": {
            "standoff": 15
           },
           "zerolinecolor": "white",
           "zerolinewidth": 2
          },
          "yaxis": {
           "automargin": true,
           "gridcolor": "white",
           "linecolor": "white",
           "ticks": "",
           "title": {
            "standoff": 15
           },
           "zerolinecolor": "white",
           "zerolinewidth": 2
          }
         }
        },
        "title": {
         "text": "Combined Yearly Monetary Savings (MXN) from Reading and Writing"
        },
        "xaxis": {
         "anchor": "y",
         "domain": [
          0,
          1
         ],
         "tickvals": [],
         "title": {
          "text": "Combined Read and Write Scenarios"
         }
        },
        "yaxis": {
         "anchor": "x",
         "domain": [
          0,
          1
         ],
         "tickformat": ",.0f",
         "title": {
          "text": "Yearly Monetary Savings (MXN)"
         }
        }
       }
      }
     },
     "metadata": {},
     "output_type": "display_data"
    }
   ],
   "source": [
    "import plotly.express as px\n",
    "import locale\n",
    "\n",
    "# Set the locale to Mexican peso (MXN) format\n",
    "locale.setlocale(locale.LC_ALL, 'es_MX.UTF-8')\n",
    "# Generate data for the plots\n",
    "reads_range = range(1, 11)  # Number of reads per week from 1 to 10\n",
    "writes_range = range(1, 11)  # Number of writes per week from 1 to 10\n",
    "\n",
    "# Create a pandas DataFrame with your data\n",
    "data = pd.DataFrame({\n",
    "    'format': ['csv', 'feather', 'parquet'],\n",
    "    'size_mb': [768.2180, 225.6625, 125.5905],\n",
    "    'save_ram_delta_mb': [0.950000, 794.471875, 157.387695],\n",
    "    'save_time': [21.607429, 1.223743, 2.264781],\n",
    "    'load_ram_delta_mb': [494.735156, 503.852539, 1367.403125],\n",
    "    'load_time': [7.973257, 0.561361, 0.814259]\n",
    "})\n",
    "\n",
    "from_format = 'csv'\n",
    "to_format = 'parquet'\n",
    "persons = 15\n",
    "daily_wage = 2000\n",
    "time_unit = 'hours'\n",
    "\n",
    "# Generate data for the combined savings plot\n",
    "combined_savings = []\n",
    "\n",
    "for reads in reads_range:\n",
    "    for writes in writes_range:\n",
    "        combined_savings.append(calculate_yearly_monetary_savings(data, from_format, to_format, reads, writes, persons, daily_wage, time_unit))\n",
    "# Create a bar plot using Plotly\n",
    "fig = px.bar(x=[f'Reads: {r}, Writes: {w}' for r in reads_range for w in writes_range], y=combined_savings,\n",
    "             labels={'x': 'Combined Read and Write Scenarios', 'y': 'Yearly Monetary Savings (MXN)'},\n",
    "             title='Combined Yearly Monetary Savings (MXN) from Reading and Writing')\n",
    "\n",
    "# Remove x-axis ticks\n",
    "fig.update_xaxes(tickvals=[])\n",
    "\n",
    "# Format y-axis labels with thousands separator\n",
    "fig.update_layout(yaxis_tickformat=',.0f', yaxis_title='Yearly Monetary Savings (MXN)')\n",
    "\n",
    "fig.show()"
   ]
  },
  {
   "cell_type": "code",
   "execution_count": 23,
   "metadata": {},
   "outputs": [
    {
     "data": {
      "application/vnd.plotly.v1+json": {
       "config": {
        "plotlyServerURL": "https://plot.ly"
       },
       "data": [
        {
         "hoverinfo": "text",
         "text": [
          [
           "Reads: 1<br>Writes: 1<br>Savings: MXN 11,484.05",
           "Reads: 1<br>Writes: 2<br>Savings: MXN 19,865.86",
           "Reads: 1<br>Writes: 3<br>Savings: MXN 28,247.67",
           "Reads: 1<br>Writes: 4<br>Savings: MXN 36,629.49",
           "Reads: 1<br>Writes: 5<br>Savings: MXN 45,011.30",
           "Reads: 1<br>Writes: 6<br>Savings: MXN 53,393.12",
           "Reads: 1<br>Writes: 7<br>Savings: MXN 61,774.93",
           "Reads: 1<br>Writes: 8<br>Savings: MXN 70,156.75",
           "Reads: 1<br>Writes: 9<br>Savings: MXN 78,538.56",
           "Reads: 1<br>Writes: 10<br>Savings: MXN 86,920.37"
          ],
          [
           "Reads: 2<br>Writes: 1<br>Savings: MXN 14,586.28",
           "Reads: 2<br>Writes: 2<br>Savings: MXN 22,968.09",
           "Reads: 2<br>Writes: 3<br>Savings: MXN 31,349.91",
           "Reads: 2<br>Writes: 4<br>Savings: MXN 39,731.72",
           "Reads: 2<br>Writes: 5<br>Savings: MXN 48,113.54",
           "Reads: 2<br>Writes: 6<br>Savings: MXN 56,495.35",
           "Reads: 2<br>Writes: 7<br>Savings: MXN 64,877.16",
           "Reads: 2<br>Writes: 8<br>Savings: MXN 73,258.98",
           "Reads: 2<br>Writes: 9<br>Savings: MXN 81,640.79",
           "Reads: 2<br>Writes: 10<br>Savings: MXN 90,022.61"
          ],
          [
           "Reads: 3<br>Writes: 1<br>Savings: MXN 17,688.51",
           "Reads: 3<br>Writes: 2<br>Savings: MXN 26,070.33",
           "Reads: 3<br>Writes: 3<br>Savings: MXN 34,452.14",
           "Reads: 3<br>Writes: 4<br>Savings: MXN 42,833.95",
           "Reads: 3<br>Writes: 5<br>Savings: MXN 51,215.77",
           "Reads: 3<br>Writes: 6<br>Savings: MXN 59,597.58",
           "Reads: 3<br>Writes: 7<br>Savings: MXN 67,979.40",
           "Reads: 3<br>Writes: 8<br>Savings: MXN 76,361.21",
           "Reads: 3<br>Writes: 9<br>Savings: MXN 84,743.02",
           "Reads: 3<br>Writes: 10<br>Savings: MXN 93,124.84"
          ],
          [
           "Reads: 4<br>Writes: 1<br>Savings: MXN 20,790.74",
           "Reads: 4<br>Writes: 2<br>Savings: MXN 29,172.56",
           "Reads: 4<br>Writes: 3<br>Savings: MXN 37,554.37",
           "Reads: 4<br>Writes: 4<br>Savings: MXN 45,936.19",
           "Reads: 4<br>Writes: 5<br>Savings: MXN 54,318.00",
           "Reads: 4<br>Writes: 6<br>Savings: MXN 62,699.81",
           "Reads: 4<br>Writes: 7<br>Savings: MXN 71,081.63",
           "Reads: 4<br>Writes: 8<br>Savings: MXN 79,463.44",
           "Reads: 4<br>Writes: 9<br>Savings: MXN 87,845.26",
           "Reads: 4<br>Writes: 10<br>Savings: MXN 96,227.07"
          ],
          [
           "Reads: 5<br>Writes: 1<br>Savings: MXN 23,892.98",
           "Reads: 5<br>Writes: 2<br>Savings: MXN 32,274.79",
           "Reads: 5<br>Writes: 3<br>Savings: MXN 40,656.60",
           "Reads: 5<br>Writes: 4<br>Savings: MXN 49,038.42",
           "Reads: 5<br>Writes: 5<br>Savings: MXN 57,420.23",
           "Reads: 5<br>Writes: 6<br>Savings: MXN 65,802.05",
           "Reads: 5<br>Writes: 7<br>Savings: MXN 74,183.86",
           "Reads: 5<br>Writes: 8<br>Savings: MXN 82,565.68",
           "Reads: 5<br>Writes: 9<br>Savings: MXN 90,947.49",
           "Reads: 5<br>Writes: 10<br>Savings: MXN 99,329.30"
          ],
          [
           "Reads: 6<br>Writes: 1<br>Savings: MXN 26,995.21",
           "Reads: 6<br>Writes: 2<br>Savings: MXN 35,377.02",
           "Reads: 6<br>Writes: 3<br>Savings: MXN 43,758.84",
           "Reads: 6<br>Writes: 4<br>Savings: MXN 52,140.65",
           "Reads: 6<br>Writes: 5<br>Savings: MXN 60,522.47",
           "Reads: 6<br>Writes: 6<br>Savings: MXN 68,904.28",
           "Reads: 6<br>Writes: 7<br>Savings: MXN 77,286.09",
           "Reads: 6<br>Writes: 8<br>Savings: MXN 85,667.91",
           "Reads: 6<br>Writes: 9<br>Savings: MXN 94,049.72",
           "Reads: 6<br>Writes: 10<br>Savings: MXN 102,431.54"
          ],
          [
           "Reads: 7<br>Writes: 1<br>Savings: MXN 30,097.44",
           "Reads: 7<br>Writes: 2<br>Savings: MXN 38,479.26",
           "Reads: 7<br>Writes: 3<br>Savings: MXN 46,861.07",
           "Reads: 7<br>Writes: 4<br>Savings: MXN 55,242.88",
           "Reads: 7<br>Writes: 5<br>Savings: MXN 63,624.70",
           "Reads: 7<br>Writes: 6<br>Savings: MXN 72,006.51",
           "Reads: 7<br>Writes: 7<br>Savings: MXN 80,388.33",
           "Reads: 7<br>Writes: 8<br>Savings: MXN 88,770.14",
           "Reads: 7<br>Writes: 9<br>Savings: MXN 97,151.95",
           "Reads: 7<br>Writes: 10<br>Savings: MXN 105,533.77"
          ],
          [
           "Reads: 8<br>Writes: 1<br>Savings: MXN 33,199.67",
           "Reads: 8<br>Writes: 2<br>Savings: MXN 41,581.49",
           "Reads: 8<br>Writes: 3<br>Savings: MXN 49,963.30",
           "Reads: 8<br>Writes: 4<br>Savings: MXN 58,345.12",
           "Reads: 8<br>Writes: 5<br>Savings: MXN 66,726.93",
           "Reads: 8<br>Writes: 6<br>Savings: MXN 75,108.74",
           "Reads: 8<br>Writes: 7<br>Savings: MXN 83,490.56",
           "Reads: 8<br>Writes: 8<br>Savings: MXN 91,872.37",
           "Reads: 8<br>Writes: 9<br>Savings: MXN 100,254.19",
           "Reads: 8<br>Writes: 10<br>Savings: MXN 108,636.00"
          ],
          [
           "Reads: 9<br>Writes: 1<br>Savings: MXN 36,301.91",
           "Reads: 9<br>Writes: 2<br>Savings: MXN 44,683.72",
           "Reads: 9<br>Writes: 3<br>Savings: MXN 53,065.53",
           "Reads: 9<br>Writes: 4<br>Savings: MXN 61,447.35",
           "Reads: 9<br>Writes: 5<br>Savings: MXN 69,829.16",
           "Reads: 9<br>Writes: 6<br>Savings: MXN 78,210.98",
           "Reads: 9<br>Writes: 7<br>Savings: MXN 86,592.79",
           "Reads: 9<br>Writes: 8<br>Savings: MXN 94,974.61",
           "Reads: 9<br>Writes: 9<br>Savings: MXN 103,356.42",
           "Reads: 9<br>Writes: 10<br>Savings: MXN 111,738.23"
          ],
          [
           "Reads: 10<br>Writes: 1<br>Savings: MXN 39,404.14",
           "Reads: 10<br>Writes: 2<br>Savings: MXN 47,785.95",
           "Reads: 10<br>Writes: 3<br>Savings: MXN 56,167.77",
           "Reads: 10<br>Writes: 4<br>Savings: MXN 64,549.58",
           "Reads: 10<br>Writes: 5<br>Savings: MXN 72,931.40",
           "Reads: 10<br>Writes: 6<br>Savings: MXN 81,313.21",
           "Reads: 10<br>Writes: 7<br>Savings: MXN 89,695.02",
           "Reads: 10<br>Writes: 8<br>Savings: MXN 98,076.84",
           "Reads: 10<br>Writes: 9<br>Savings: MXN 106,458.65",
           "Reads: 10<br>Writes: 10<br>Savings: MXN 114,840.47"
          ]
         ],
         "type": "surface",
         "x": [
          1,
          2,
          3,
          4,
          5,
          6,
          7,
          8,
          9,
          10
         ],
         "y": [
          1,
          2,
          3,
          4,
          5,
          6,
          7,
          8,
          9,
          10
         ],
         "z": [
          [
           11484.046600000001,
           19865.860733333335,
           28247.674866666668,
           36629.489,
           45011.303133333335,
           53393.117266666675,
           61774.931399999994,
           70156.74553333333,
           78538.55966666667,
           86920.3738
          ],
          [
           14586.279066666668,
           22968.093200000003,
           31349.907333333336,
           39731.72146666667,
           48113.535599999996,
           56495.349733333336,
           64877.16386666666,
           73258.978,
           81640.79213333332,
           90022.60626666667
          ],
          [
           17688.511533333334,
           26070.325666666668,
           34452.1398,
           42833.95393333333,
           51215.76806666667,
           59597.5822,
           67979.39633333332,
           76361.21046666667,
           84743.0246,
           93124.83873333332
          ],
          [
           20790.743999999995,
           29172.558133333336,
           37554.372266666665,
           45936.186400000006,
           54318.00053333333,
           62699.81466666667,
           71081.6288,
           79463.44293333334,
           87845.25706666667,
           96227.07119999999
          ],
          [
           23892.976466666663,
           32274.790600000004,
           40656.60473333333,
           49038.41886666667,
           57420.23299999999,
           65802.04713333334,
           74183.86126666669,
           82565.67540000001,
           90947.48953333336,
           99329.30366666667
          ],
          [
           26995.20893333334,
           35377.02306666667,
           43758.8372,
           52140.651333333335,
           60522.46546666666,
           68904.2796,
           77286.09373333333,
           85667.90786666666,
           94049.72200000001,
           102431.53613333334
          ],
          [
           30097.4414,
           38479.25553333334,
           46861.06966666667,
           55242.88380000001,
           63624.69793333335,
           72006.51206666669,
           80388.3262,
           88770.14033333333,
           97151.95446666666,
           105533.7686
          ],
          [
           33199.673866666664,
           41581.48799999999,
           49963.30213333334,
           58345.11626666667,
           66726.9304,
           75108.74453333333,
           83490.55866666668,
           91872.37280000001,
           100254.18693333335,
           108636.00106666666
          ],
          [
           36301.90633333333,
           44683.72046666667,
           53065.534600000006,
           61447.34873333334,
           69829.16286666667,
           78210.977,
           86592.79113333335,
           94974.60526666667,
           103356.4194,
           111738.23353333335
          ],
          [
           39404.13879999999,
           47785.95293333333,
           56167.767066666675,
           64549.58120000001,
           72931.39533333333,
           81313.20946666667,
           89695.0236,
           98076.83773333333,
           106458.65186666667,
           114840.46599999999
          ]
         ]
        }
       ],
       "layout": {
        "autosize": false,
        "height": 600,
        "scene": {
         "xaxis": {
          "title": {
           "text": "Number of Writes"
          }
         },
         "yaxis": {
          "title": {
           "text": "Number of Reads"
          }
         },
         "zaxis": {
          "title": {
           "text": "Yearly Monetary Savings (MXN)"
          }
         }
        },
        "template": {
         "data": {
          "bar": [
           {
            "error_x": {
             "color": "#2a3f5f"
            },
            "error_y": {
             "color": "#2a3f5f"
            },
            "marker": {
             "line": {
              "color": "#E5ECF6",
              "width": 0.5
             },
             "pattern": {
              "fillmode": "overlay",
              "size": 10,
              "solidity": 0.2
             }
            },
            "type": "bar"
           }
          ],
          "barpolar": [
           {
            "marker": {
             "line": {
              "color": "#E5ECF6",
              "width": 0.5
             },
             "pattern": {
              "fillmode": "overlay",
              "size": 10,
              "solidity": 0.2
             }
            },
            "type": "barpolar"
           }
          ],
          "carpet": [
           {
            "aaxis": {
             "endlinecolor": "#2a3f5f",
             "gridcolor": "white",
             "linecolor": "white",
             "minorgridcolor": "white",
             "startlinecolor": "#2a3f5f"
            },
            "baxis": {
             "endlinecolor": "#2a3f5f",
             "gridcolor": "white",
             "linecolor": "white",
             "minorgridcolor": "white",
             "startlinecolor": "#2a3f5f"
            },
            "type": "carpet"
           }
          ],
          "choropleth": [
           {
            "colorbar": {
             "outlinewidth": 0,
             "ticks": ""
            },
            "type": "choropleth"
           }
          ],
          "contour": [
           {
            "colorbar": {
             "outlinewidth": 0,
             "ticks": ""
            },
            "colorscale": [
             [
              0,
              "#0d0887"
             ],
             [
              0.1111111111111111,
              "#46039f"
             ],
             [
              0.2222222222222222,
              "#7201a8"
             ],
             [
              0.3333333333333333,
              "#9c179e"
             ],
             [
              0.4444444444444444,
              "#bd3786"
             ],
             [
              0.5555555555555556,
              "#d8576b"
             ],
             [
              0.6666666666666666,
              "#ed7953"
             ],
             [
              0.7777777777777778,
              "#fb9f3a"
             ],
             [
              0.8888888888888888,
              "#fdca26"
             ],
             [
              1,
              "#f0f921"
             ]
            ],
            "type": "contour"
           }
          ],
          "contourcarpet": [
           {
            "colorbar": {
             "outlinewidth": 0,
             "ticks": ""
            },
            "type": "contourcarpet"
           }
          ],
          "heatmap": [
           {
            "colorbar": {
             "outlinewidth": 0,
             "ticks": ""
            },
            "colorscale": [
             [
              0,
              "#0d0887"
             ],
             [
              0.1111111111111111,
              "#46039f"
             ],
             [
              0.2222222222222222,
              "#7201a8"
             ],
             [
              0.3333333333333333,
              "#9c179e"
             ],
             [
              0.4444444444444444,
              "#bd3786"
             ],
             [
              0.5555555555555556,
              "#d8576b"
             ],
             [
              0.6666666666666666,
              "#ed7953"
             ],
             [
              0.7777777777777778,
              "#fb9f3a"
             ],
             [
              0.8888888888888888,
              "#fdca26"
             ],
             [
              1,
              "#f0f921"
             ]
            ],
            "type": "heatmap"
           }
          ],
          "heatmapgl": [
           {
            "colorbar": {
             "outlinewidth": 0,
             "ticks": ""
            },
            "colorscale": [
             [
              0,
              "#0d0887"
             ],
             [
              0.1111111111111111,
              "#46039f"
             ],
             [
              0.2222222222222222,
              "#7201a8"
             ],
             [
              0.3333333333333333,
              "#9c179e"
             ],
             [
              0.4444444444444444,
              "#bd3786"
             ],
             [
              0.5555555555555556,
              "#d8576b"
             ],
             [
              0.6666666666666666,
              "#ed7953"
             ],
             [
              0.7777777777777778,
              "#fb9f3a"
             ],
             [
              0.8888888888888888,
              "#fdca26"
             ],
             [
              1,
              "#f0f921"
             ]
            ],
            "type": "heatmapgl"
           }
          ],
          "histogram": [
           {
            "marker": {
             "pattern": {
              "fillmode": "overlay",
              "size": 10,
              "solidity": 0.2
             }
            },
            "type": "histogram"
           }
          ],
          "histogram2d": [
           {
            "colorbar": {
             "outlinewidth": 0,
             "ticks": ""
            },
            "colorscale": [
             [
              0,
              "#0d0887"
             ],
             [
              0.1111111111111111,
              "#46039f"
             ],
             [
              0.2222222222222222,
              "#7201a8"
             ],
             [
              0.3333333333333333,
              "#9c179e"
             ],
             [
              0.4444444444444444,
              "#bd3786"
             ],
             [
              0.5555555555555556,
              "#d8576b"
             ],
             [
              0.6666666666666666,
              "#ed7953"
             ],
             [
              0.7777777777777778,
              "#fb9f3a"
             ],
             [
              0.8888888888888888,
              "#fdca26"
             ],
             [
              1,
              "#f0f921"
             ]
            ],
            "type": "histogram2d"
           }
          ],
          "histogram2dcontour": [
           {
            "colorbar": {
             "outlinewidth": 0,
             "ticks": ""
            },
            "colorscale": [
             [
              0,
              "#0d0887"
             ],
             [
              0.1111111111111111,
              "#46039f"
             ],
             [
              0.2222222222222222,
              "#7201a8"
             ],
             [
              0.3333333333333333,
              "#9c179e"
             ],
             [
              0.4444444444444444,
              "#bd3786"
             ],
             [
              0.5555555555555556,
              "#d8576b"
             ],
             [
              0.6666666666666666,
              "#ed7953"
             ],
             [
              0.7777777777777778,
              "#fb9f3a"
             ],
             [
              0.8888888888888888,
              "#fdca26"
             ],
             [
              1,
              "#f0f921"
             ]
            ],
            "type": "histogram2dcontour"
           }
          ],
          "mesh3d": [
           {
            "colorbar": {
             "outlinewidth": 0,
             "ticks": ""
            },
            "type": "mesh3d"
           }
          ],
          "parcoords": [
           {
            "line": {
             "colorbar": {
              "outlinewidth": 0,
              "ticks": ""
             }
            },
            "type": "parcoords"
           }
          ],
          "pie": [
           {
            "automargin": true,
            "type": "pie"
           }
          ],
          "scatter": [
           {
            "fillpattern": {
             "fillmode": "overlay",
             "size": 10,
             "solidity": 0.2
            },
            "type": "scatter"
           }
          ],
          "scatter3d": [
           {
            "line": {
             "colorbar": {
              "outlinewidth": 0,
              "ticks": ""
             }
            },
            "marker": {
             "colorbar": {
              "outlinewidth": 0,
              "ticks": ""
             }
            },
            "type": "scatter3d"
           }
          ],
          "scattercarpet": [
           {
            "marker": {
             "colorbar": {
              "outlinewidth": 0,
              "ticks": ""
             }
            },
            "type": "scattercarpet"
           }
          ],
          "scattergeo": [
           {
            "marker": {
             "colorbar": {
              "outlinewidth": 0,
              "ticks": ""
             }
            },
            "type": "scattergeo"
           }
          ],
          "scattergl": [
           {
            "marker": {
             "colorbar": {
              "outlinewidth": 0,
              "ticks": ""
             }
            },
            "type": "scattergl"
           }
          ],
          "scattermapbox": [
           {
            "marker": {
             "colorbar": {
              "outlinewidth": 0,
              "ticks": ""
             }
            },
            "type": "scattermapbox"
           }
          ],
          "scatterpolar": [
           {
            "marker": {
             "colorbar": {
              "outlinewidth": 0,
              "ticks": ""
             }
            },
            "type": "scatterpolar"
           }
          ],
          "scatterpolargl": [
           {
            "marker": {
             "colorbar": {
              "outlinewidth": 0,
              "ticks": ""
             }
            },
            "type": "scatterpolargl"
           }
          ],
          "scatterternary": [
           {
            "marker": {
             "colorbar": {
              "outlinewidth": 0,
              "ticks": ""
             }
            },
            "type": "scatterternary"
           }
          ],
          "surface": [
           {
            "colorbar": {
             "outlinewidth": 0,
             "ticks": ""
            },
            "colorscale": [
             [
              0,
              "#0d0887"
             ],
             [
              0.1111111111111111,
              "#46039f"
             ],
             [
              0.2222222222222222,
              "#7201a8"
             ],
             [
              0.3333333333333333,
              "#9c179e"
             ],
             [
              0.4444444444444444,
              "#bd3786"
             ],
             [
              0.5555555555555556,
              "#d8576b"
             ],
             [
              0.6666666666666666,
              "#ed7953"
             ],
             [
              0.7777777777777778,
              "#fb9f3a"
             ],
             [
              0.8888888888888888,
              "#fdca26"
             ],
             [
              1,
              "#f0f921"
             ]
            ],
            "type": "surface"
           }
          ],
          "table": [
           {
            "cells": {
             "fill": {
              "color": "#EBF0F8"
             },
             "line": {
              "color": "white"
             }
            },
            "header": {
             "fill": {
              "color": "#C8D4E3"
             },
             "line": {
              "color": "white"
             }
            },
            "type": "table"
           }
          ]
         },
         "layout": {
          "annotationdefaults": {
           "arrowcolor": "#2a3f5f",
           "arrowhead": 0,
           "arrowwidth": 1
          },
          "autotypenumbers": "strict",
          "coloraxis": {
           "colorbar": {
            "outlinewidth": 0,
            "ticks": ""
           }
          },
          "colorscale": {
           "diverging": [
            [
             0,
             "#8e0152"
            ],
            [
             0.1,
             "#c51b7d"
            ],
            [
             0.2,
             "#de77ae"
            ],
            [
             0.3,
             "#f1b6da"
            ],
            [
             0.4,
             "#fde0ef"
            ],
            [
             0.5,
             "#f7f7f7"
            ],
            [
             0.6,
             "#e6f5d0"
            ],
            [
             0.7,
             "#b8e186"
            ],
            [
             0.8,
             "#7fbc41"
            ],
            [
             0.9,
             "#4d9221"
            ],
            [
             1,
             "#276419"
            ]
           ],
           "sequential": [
            [
             0,
             "#0d0887"
            ],
            [
             0.1111111111111111,
             "#46039f"
            ],
            [
             0.2222222222222222,
             "#7201a8"
            ],
            [
             0.3333333333333333,
             "#9c179e"
            ],
            [
             0.4444444444444444,
             "#bd3786"
            ],
            [
             0.5555555555555556,
             "#d8576b"
            ],
            [
             0.6666666666666666,
             "#ed7953"
            ],
            [
             0.7777777777777778,
             "#fb9f3a"
            ],
            [
             0.8888888888888888,
             "#fdca26"
            ],
            [
             1,
             "#f0f921"
            ]
           ],
           "sequentialminus": [
            [
             0,
             "#0d0887"
            ],
            [
             0.1111111111111111,
             "#46039f"
            ],
            [
             0.2222222222222222,
             "#7201a8"
            ],
            [
             0.3333333333333333,
             "#9c179e"
            ],
            [
             0.4444444444444444,
             "#bd3786"
            ],
            [
             0.5555555555555556,
             "#d8576b"
            ],
            [
             0.6666666666666666,
             "#ed7953"
            ],
            [
             0.7777777777777778,
             "#fb9f3a"
            ],
            [
             0.8888888888888888,
             "#fdca26"
            ],
            [
             1,
             "#f0f921"
            ]
           ]
          },
          "colorway": [
           "#636efa",
           "#EF553B",
           "#00cc96",
           "#ab63fa",
           "#FFA15A",
           "#19d3f3",
           "#FF6692",
           "#B6E880",
           "#FF97FF",
           "#FECB52"
          ],
          "font": {
           "color": "#2a3f5f"
          },
          "geo": {
           "bgcolor": "white",
           "lakecolor": "white",
           "landcolor": "#E5ECF6",
           "showlakes": true,
           "showland": true,
           "subunitcolor": "white"
          },
          "hoverlabel": {
           "align": "left"
          },
          "hovermode": "closest",
          "mapbox": {
           "style": "light"
          },
          "paper_bgcolor": "white",
          "plot_bgcolor": "#E5ECF6",
          "polar": {
           "angularaxis": {
            "gridcolor": "white",
            "linecolor": "white",
            "ticks": ""
           },
           "bgcolor": "#E5ECF6",
           "radialaxis": {
            "gridcolor": "white",
            "linecolor": "white",
            "ticks": ""
           }
          },
          "scene": {
           "xaxis": {
            "backgroundcolor": "#E5ECF6",
            "gridcolor": "white",
            "gridwidth": 2,
            "linecolor": "white",
            "showbackground": true,
            "ticks": "",
            "zerolinecolor": "white"
           },
           "yaxis": {
            "backgroundcolor": "#E5ECF6",
            "gridcolor": "white",
            "gridwidth": 2,
            "linecolor": "white",
            "showbackground": true,
            "ticks": "",
            "zerolinecolor": "white"
           },
           "zaxis": {
            "backgroundcolor": "#E5ECF6",
            "gridcolor": "white",
            "gridwidth": 2,
            "linecolor": "white",
            "showbackground": true,
            "ticks": "",
            "zerolinecolor": "white"
           }
          },
          "shapedefaults": {
           "line": {
            "color": "#2a3f5f"
           }
          },
          "ternary": {
           "aaxis": {
            "gridcolor": "white",
            "linecolor": "white",
            "ticks": ""
           },
           "baxis": {
            "gridcolor": "white",
            "linecolor": "white",
            "ticks": ""
           },
           "bgcolor": "#E5ECF6",
           "caxis": {
            "gridcolor": "white",
            "linecolor": "white",
            "ticks": ""
           }
          },
          "title": {
           "x": 0.05
          },
          "xaxis": {
           "automargin": true,
           "gridcolor": "white",
           "linecolor": "white",
           "ticks": "",
           "title": {
            "standoff": 15
           },
           "zerolinecolor": "white",
           "zerolinewidth": 2
          },
          "yaxis": {
           "automargin": true,
           "gridcolor": "white",
           "linecolor": "white",
           "ticks": "",
           "title": {
            "standoff": 15
           },
           "zerolinecolor": "white",
           "zerolinewidth": 2
          }
         }
        },
        "title": {
         "text": "Combined Yearly Monetary Savings (MXN) from Reading and Writing"
        },
        "width": 800
       }
      }
     },
     "metadata": {},
     "output_type": "display_data"
    }
   ],
   "source": [
    "import plotly.graph_objects as go\n",
    "import locale\n",
    "\n",
    "# Set the locale to Mexican peso (MXN) format\n",
    "locale.setlocale(locale.LC_ALL, 'es_MX.UTF-8')\n",
    "\n",
    "# Generate data for the plots\n",
    "reads_range = range(1, 11)  # Number of reads per week from 1 to 10\n",
    "writes_range = range(1, 11)  # Number of writes per week from 1 to 10\n",
    "\n",
    "# Create a pandas DataFrame with your data\n",
    "data = pd.DataFrame({\n",
    "    'format': ['csv', 'feather', 'parquet'],\n",
    "    'size_mb': [768.2180, 225.6625, 125.5905],\n",
    "    'save_ram_delta_mb': [0.950000, 794.471875, 157.387695],\n",
    "    'save_time': [21.607429, 1.223743, 2.264781],\n",
    "    'load_ram_delta_mb': [494.735156, 503.852539, 1367.403125],\n",
    "    'load_time': [7.973257, 0.561361, 0.814259]\n",
    "})\n",
    "\n",
    "from_format = 'csv'\n",
    "to_format = 'parquet'\n",
    "persons = 15\n",
    "daily_wage = 2000\n",
    "time_unit = 'hours'\n",
    "\n",
    "# Generate data for the combined savings\n",
    "combined_savings = []\n",
    "\n",
    "for reads in reads_range:\n",
    "    for writes in writes_range:\n",
    "        combined_savings.append(calculate_yearly_monetary_savings(data, from_format, to_format, reads, writes, persons, daily_wage, time_unit))\n",
    "# Reshape combined_savings to match the shape of z in the example\n",
    "combined_savings_reshaped = np.array(combined_savings).reshape(len(reads_range), len(writes_range))\n",
    "# Create a 3D surface plot using Plotly's graph_objects\n",
    "fig = go.Figure(data=[go.Surface(z=combined_savings_reshaped, x=list(writes_range), y=list(reads_range))])\n",
    "\n",
    "# Customize the tooltip text\n",
    "tooltip_text = [[f'Reads: {reads}<br>Writes: {writes}<br>Savings: MXN {savings:,.2f}' for writes, savings in zip(writes_range, row)] for reads, row in zip(reads_range, combined_savings_reshaped)]\n",
    "tooltip_text = np.array(tooltip_text)\n",
    "\n",
    "fig.update_traces(hoverinfo='text', text=tooltip_text)\n",
    "\n",
    "fig.update_layout(title='Combined Yearly Monetary Savings (MXN) from Reading and Writing',\n",
    "                  scene=dict(xaxis_title='Number of Writes', yaxis_title='Number of Reads', zaxis_title='Yearly Monetary Savings (MXN)'),\n",
    "                  autosize=False, width=800, height=600)\n",
    "fig.show()"
   ]
  },
  {
   "cell_type": "markdown",
   "metadata": {},
   "source": [
    "# Dash app"
   ]
  },
  {
   "cell_type": "code",
   "execution_count": 25,
   "metadata": {},
   "outputs": [
    {
     "ename": "ImportError",
     "evalue": "cannot import name 'get_current_traceback' from 'werkzeug.debug.tbtools' (/home/duque/miniconda3/lib/python3.10/site-packages/werkzeug/debug/tbtools.py)",
     "output_type": "error",
     "traceback": [
      "\u001b[0;31m---------------------------------------------------------------------------\u001b[0m",
      "\u001b[0;31mImportError\u001b[0m                               Traceback (most recent call last)",
      "Cell \u001b[0;32mIn[25], line 1\u001b[0m\n\u001b[0;32m----> 1\u001b[0m \u001b[39mimport\u001b[39;00m \u001b[39mdash\u001b[39;00m\n\u001b[1;32m      2\u001b[0m \u001b[39mfrom\u001b[39;00m \u001b[39mdash\u001b[39;00m \u001b[39mimport\u001b[39;00m dcc, html\n\u001b[1;32m      3\u001b[0m \u001b[39mfrom\u001b[39;00m \u001b[39mdash\u001b[39;00m\u001b[39m.\u001b[39;00m\u001b[39mdependencies\u001b[39;00m \u001b[39mimport\u001b[39;00m Input, Output\n",
      "File \u001b[0;32m~/miniconda3/lib/python3.10/site-packages/dash/__init__.py:5\u001b[0m\n\u001b[1;32m      1\u001b[0m \u001b[39m# pylint: disable=C0413\u001b[39;00m\n\u001b[1;32m      2\u001b[0m \u001b[39m# __plotly_dash is for the \"make sure you don't have a dash.py\" check\u001b[39;00m\n\u001b[1;32m      3\u001b[0m \u001b[39m# must come before any other imports.\u001b[39;00m\n\u001b[1;32m      4\u001b[0m __plotly_dash \u001b[39m=\u001b[39m \u001b[39mTrue\u001b[39;00m\n\u001b[0;32m----> 5\u001b[0m \u001b[39mfrom\u001b[39;00m \u001b[39m.\u001b[39;00m\u001b[39mdash\u001b[39;00m \u001b[39mimport\u001b[39;00m Dash, no_update  \u001b[39m# noqa: F401,E402\u001b[39;00m\n\u001b[1;32m      6\u001b[0m \u001b[39mfrom\u001b[39;00m \u001b[39m.\u001b[39;00m\u001b[39mdependencies\u001b[39;00m \u001b[39mimport\u001b[39;00m (  \u001b[39m# noqa: F401,E402\u001b[39;00m\n\u001b[1;32m      7\u001b[0m     Input,  \u001b[39m# noqa: F401,E402\u001b[39;00m\n\u001b[1;32m      8\u001b[0m     Output,  \u001b[39m# noqa: F401,E402\u001b[39;00m\n\u001b[0;32m   (...)\u001b[0m\n\u001b[1;32m     13\u001b[0m     ALLSMALLER,  \u001b[39m# noqa: F401,E402\u001b[39;00m\n\u001b[1;32m     14\u001b[0m )  \u001b[39m# noqa: F401,E402\u001b[39;00m\n\u001b[1;32m     15\u001b[0m \u001b[39mfrom\u001b[39;00m \u001b[39m.\u001b[39;00m \u001b[39mimport\u001b[39;00m development  \u001b[39m# noqa: F401,E402\u001b[39;00m\n",
      "File \u001b[0;32m~/miniconda3/lib/python3.10/site-packages/dash/dash.py:18\u001b[0m\n\u001b[1;32m     16\u001b[0m \u001b[39mimport\u001b[39;00m \u001b[39mflask\u001b[39;00m\n\u001b[1;32m     17\u001b[0m \u001b[39mfrom\u001b[39;00m \u001b[39mflask_compress\u001b[39;00m \u001b[39mimport\u001b[39;00m Compress\n\u001b[0;32m---> 18\u001b[0m \u001b[39mfrom\u001b[39;00m \u001b[39mwerkzeug\u001b[39;00m\u001b[39m.\u001b[39;00m\u001b[39mdebug\u001b[39;00m\u001b[39m.\u001b[39;00m\u001b[39mtbtools\u001b[39;00m \u001b[39mimport\u001b[39;00m get_current_traceback\n\u001b[1;32m     19\u001b[0m \u001b[39mfrom\u001b[39;00m \u001b[39mpkg_resources\u001b[39;00m \u001b[39mimport\u001b[39;00m get_distribution, parse_version\n\u001b[1;32m     20\u001b[0m \u001b[39mfrom\u001b[39;00m \u001b[39mdash\u001b[39;00m \u001b[39mimport\u001b[39;00m dcc\n",
      "\u001b[0;31mImportError\u001b[0m: cannot import name 'get_current_traceback' from 'werkzeug.debug.tbtools' (/home/duque/miniconda3/lib/python3.10/site-packages/werkzeug/debug/tbtools.py)"
     ]
    }
   ],
   "source": [
    "import dash\n",
    "from dash import dcc, html\n",
    "from dash.dependencies import Input, Output\n",
    "import plotly.graph_objs as go\n",
    "import pandas as pd\n",
    "import numpy as np\n",
    "\n",
    "\n",
    "# Generate data for the plots\n",
    "reads_range = range(1, 11)  # Number of reads per week from 1 to 10\n",
    "writes_range = range(1, 11)  # Number of writes per week from 1 to 10\n",
    "\n",
    "# Create a pandas DataFrame with your data\n",
    "data = pd.DataFrame({\n",
    "    'format': ['csv', 'feather', 'parquet'],\n",
    "    'size_mb': [768.2180, 225.6625, 125.5905],\n",
    "    'save_ram_delta_mb': [0.950000, 794.471875, 157.387695],\n",
    "    'save_time': [21.607429, 1.223743, 2.264781],\n",
    "    'load_ram_delta_mb': [494.735156, 503.852539, 1367.403125],\n",
    "    'load_time': [7.973257, 0.561361, 0.814259]\n",
    "})\n",
    "\n",
    "# Initialize Dash app\n",
    "app = dash.Dash(__name__)\n",
    "\n",
    "# Layout of the app\n",
    "app.layout = html.Div([\n",
    "    html.H1(\"Interactive Savings Calculator\"),\n",
    "    html.Label(\"Number of Reads per Week\"),\n",
    "    dcc.Slider(id='reads-slider', min=1, max=10, step=1, value=5),\n",
    "    html.Label(\"Number of Writes per Week\"),\n",
    "    dcc.Slider(id='writes-slider', min=1, max=10, step=1, value=5),\n",
    "    html.Label(\"Number of People\"),\n",
    "    dcc.Slider(id='persons-slider', min=1, max=20, step=1, value=10),\n",
    "    html.Label(\"Daily Wage (MXN)\"),\n",
    "    dcc.Input(id='wage-input', type='number', value=2000),\n",
    "    dcc.Graph(id='savings-graph')\n",
    "])\n",
    "\n",
    "# Callback to update the savings graph\n",
    "@app.callback(\n",
    "    Output('savings-graph', 'figure'),\n",
    "    [Input('reads-slider', 'value'),\n",
    "     Input('writes-slider', 'value'),\n",
    "     Input('persons-slider', 'value'),\n",
    "     Input('wage-input', 'value')]\n",
    ")\n",
    "def update_graph(reads, writes, persons, wage):\n",
    "    # Generate data for the combined savings plot\n",
    "    combined_savings = []\n",
    "\n",
    "    for r in reads_range:\n",
    "        for w in writes_range:\n",
    "            combined_savings.append(calculate_yearly_monetary_savings(data, 'csv', 'parquet', r, w, persons, wage, 'hours'))\n",
    "\n",
    "    combined_savings_reshaped = np.array(combined_savings).reshape(len(reads_range), len(writes_range))\n",
    "\n",
    "    # Create a 3D surface plot\n",
    "    fig = go.Figure(data=[go.Surface(z=combined_savings_reshaped, x=list(writes_range), y=list(reads_range))])\n",
    "\n",
    "    fig.update_traces(hoverinfo='text', text=[[f'Reads: {r}<br>Writes: {w}<br>Savings: MXN {s:,.2f}' for w, s in zip(writes_range, row)] for r, row in zip(reads_range, combined_savings_reshaped)])\n",
    "    \n",
    "    fig.update_layout(title='Combined Yearly Monetary Savings (MXN) from Reading and Writing',\n",
    "                      scene=dict(xaxis_title='Number of Writes', yaxis_title='Number of Reads', zaxis_title='Yearly Monetary Savings (MXN)'),\n",
    "                      autosize=False, width=800, height=600)\n",
    "    \n",
    "    return fig\n",
    "\n",
    "# Run the app\n",
    "if __name__ == '__main__':\n",
    "    app.run_server(debug=True)\n"
   ]
  },
  {
   "cell_type": "code",
   "execution_count": null,
   "metadata": {},
   "outputs": [],
   "source": []
  }
 ],
 "metadata": {
  "kernelspec": {
   "display_name": "Python 3",
   "language": "python",
   "name": "python3"
  },
  "language_info": {
   "codemirror_mode": {
    "name": "ipython",
    "version": 3
   },
   "file_extension": ".py",
   "mimetype": "text/x-python",
   "name": "python",
   "nbconvert_exporter": "python",
   "pygments_lexer": "ipython3",
   "version": "3.10.9"
  },
  "toc": {
   "base_numbering": 1,
   "nav_menu": {},
   "number_sections": true,
   "sideBar": true,
   "skip_h1_title": false,
   "title_cell": "Table of Contents",
   "title_sidebar": "Contents",
   "toc_cell": false,
   "toc_position": {},
   "toc_section_display": true,
   "toc_window_display": false
  }
 },
 "nbformat": 4,
 "nbformat_minor": 2
}
